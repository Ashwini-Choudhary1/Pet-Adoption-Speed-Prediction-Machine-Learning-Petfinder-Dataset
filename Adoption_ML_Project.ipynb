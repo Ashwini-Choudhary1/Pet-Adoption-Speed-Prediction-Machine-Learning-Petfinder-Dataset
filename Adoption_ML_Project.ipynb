{
 "cells": [
  {
   "cell_type": "code",
   "execution_count": 2,
   "metadata": {},
   "outputs": [],
   "source": [
    "import pandas as pd \n",
    "import numpy as np\n",
    "from skimage import io\n",
    "import matplotlib.pyplot as plt\n",
    "import time\n",
    "import cv2\n",
    "from sklearn.pipeline import Pipeline\n",
    "from sklearn.compose import ColumnTransformer\n",
    "from sklearn.preprocessing import OneHotEncoder, StandardScaler, FunctionTransformer, MinMaxScaler\n",
    "from sklearn.feature_extraction.text import TfidfVectorizer\n",
    "from sklearn.impute import SimpleImputer\n",
    "from sklearn.linear_model import LogisticRegression\n",
    "from sklearn.svm import SVR\n",
    "from sklearn.metrics import ConfusionMatrixDisplay\n",
    "from sklearn.linear_model import LinearRegression\n",
    "from sklearn.ensemble import RandomForestClassifier\n",
    "from sklearn.linear_model import LogisticRegression\n",
    "from sklearn.model_selection import RandomizedSearchCV\n",
    "from sklearn.metrics import mean_squared_error, accuracy_score, r2_score, f1_score,cohen_kappa_score\n",
    "from sklearn.ensemble import GradientBoostingClassifier\n",
    "from sklearn.feature_extraction.text import CountVectorizer\n",
    "from sklearn.feature_extraction.text import TfidfTransformer\n",
    "from sklearn.neighbors import KNeighborsClassifier\n",
    "from sklearn.naive_bayes import MultinomialNB\n",
    "from sklearn.base import TransformerMixin,BaseEstimator\n",
    "from sklearn.ensemble import AdaBoostClassifier\n",
    "\n",
    "from nltk.corpus import stopwords\n",
    "from nltk.tokenize import word_tokenize\n",
    "from nltk.util import ngrams\n",
    "from nltk.tokenize import WhitespaceTokenizer\n",
    "from nltk.stem import WordNetLemmatizer, PorterStemmer\n",
    "from nltk.stem.porter import PorterStemmer"
   ]
  },
  {
   "cell_type": "code",
   "execution_count": 3,
   "metadata": {},
   "outputs": [],
   "source": [
    "import numpy as np\n",
    "import pandas as pd\n",
    "\n",
    "train_df = pd.read_csv('train.csv')\n",
    "test_df= pd.read_csv('test.csv')\n"
   ]
  },
  {
   "cell_type": "markdown",
   "metadata": {},
   "source": [
    "# Overview of the Dataset"
   ]
  },
  {
   "cell_type": "code",
   "execution_count": 4,
   "metadata": {},
   "outputs": [
    {
     "data": {
      "text/html": [
       "<div>\n",
       "<style scoped>\n",
       "    .dataframe tbody tr th:only-of-type {\n",
       "        vertical-align: middle;\n",
       "    }\n",
       "\n",
       "    .dataframe tbody tr th {\n",
       "        vertical-align: top;\n",
       "    }\n",
       "\n",
       "    .dataframe thead th {\n",
       "        text-align: right;\n",
       "    }\n",
       "</style>\n",
       "<table border=\"1\" class=\"dataframe\">\n",
       "  <thead>\n",
       "    <tr style=\"text-align: right;\">\n",
       "      <th></th>\n",
       "      <th>Type</th>\n",
       "      <th>Age</th>\n",
       "      <th>Gender</th>\n",
       "      <th>Color1</th>\n",
       "      <th>Color2</th>\n",
       "      <th>Color3</th>\n",
       "      <th>MaturitySize</th>\n",
       "      <th>FurLength</th>\n",
       "      <th>Vaccinated</th>\n",
       "      <th>Dewormed</th>\n",
       "      <th>Sterilized</th>\n",
       "      <th>Health</th>\n",
       "      <th>Fee</th>\n",
       "      <th>Description</th>\n",
       "      <th>AdoptionSpeed</th>\n",
       "      <th>Images</th>\n",
       "      <th>Breed</th>\n",
       "    </tr>\n",
       "  </thead>\n",
       "  <tbody>\n",
       "    <tr>\n",
       "      <th>0</th>\n",
       "      <td>Dog</td>\n",
       "      <td>84.0</td>\n",
       "      <td>Male</td>\n",
       "      <td>Brown</td>\n",
       "      <td>Cream</td>\n",
       "      <td>Unknown</td>\n",
       "      <td>Small</td>\n",
       "      <td>No</td>\n",
       "      <td>Unknown</td>\n",
       "      <td>Yes</td>\n",
       "      <td>No</td>\n",
       "      <td>Healthy</td>\n",
       "      <td>0.0</td>\n",
       "      <td>He is either lost or abandoned. Please contact...</td>\n",
       "      <td>4.0</td>\n",
       "      <td>3b178aa59-5.jpg</td>\n",
       "      <td>Terrier</td>\n",
       "    </tr>\n",
       "    <tr>\n",
       "      <th>1</th>\n",
       "      <td>Dog</td>\n",
       "      <td>1.0</td>\n",
       "      <td>Female</td>\n",
       "      <td>Black</td>\n",
       "      <td>Unknown</td>\n",
       "      <td>Unknown</td>\n",
       "      <td>Medium</td>\n",
       "      <td>Yes</td>\n",
       "      <td>No</td>\n",
       "      <td>Yes</td>\n",
       "      <td>No</td>\n",
       "      <td>Healthy</td>\n",
       "      <td>50.0</td>\n",
       "      <td>Hi, my name is Rose. I'm very friendly and am ...</td>\n",
       "      <td>3.0</td>\n",
       "      <td>2fbf2cb7c-1.jpg</td>\n",
       "      <td>Mixed_Breed</td>\n",
       "    </tr>\n",
       "    <tr>\n",
       "      <th>2</th>\n",
       "      <td>Dog</td>\n",
       "      <td>1.0</td>\n",
       "      <td>Male</td>\n",
       "      <td>Brown</td>\n",
       "      <td>Unknown</td>\n",
       "      <td>Unknown</td>\n",
       "      <td>Medium</td>\n",
       "      <td>Yes</td>\n",
       "      <td>No</td>\n",
       "      <td>No</td>\n",
       "      <td>No</td>\n",
       "      <td>Healthy</td>\n",
       "      <td>0.0</td>\n",
       "      <td>Puppy's age is unknown. My husband went mounta...</td>\n",
       "      <td>1.0</td>\n",
       "      <td>97f683e04-1.jpg</td>\n",
       "      <td>Mixed_Breed</td>\n",
       "    </tr>\n",
       "    <tr>\n",
       "      <th>3</th>\n",
       "      <td>Dog</td>\n",
       "      <td>3.0</td>\n",
       "      <td>Male</td>\n",
       "      <td>Black</td>\n",
       "      <td>Unknown</td>\n",
       "      <td>Unknown</td>\n",
       "      <td>Medium</td>\n",
       "      <td>Yes</td>\n",
       "      <td>Unknown</td>\n",
       "      <td>Yes</td>\n",
       "      <td>Unknown</td>\n",
       "      <td>Healthy</td>\n",
       "      <td>0.0</td>\n",
       "      <td>Hi, I'm Randy, few weeks ago I got beaten by h...</td>\n",
       "      <td>4.0</td>\n",
       "      <td>479500716-2.jpg</td>\n",
       "      <td>Mixed_Breed</td>\n",
       "    </tr>\n",
       "    <tr>\n",
       "      <th>4</th>\n",
       "      <td>Dog</td>\n",
       "      <td>8.0</td>\n",
       "      <td>Male</td>\n",
       "      <td>Brown</td>\n",
       "      <td>Unknown</td>\n",
       "      <td>Unknown</td>\n",
       "      <td>Large</td>\n",
       "      <td>Yes</td>\n",
       "      <td>Yes</td>\n",
       "      <td>Yes</td>\n",
       "      <td>No</td>\n",
       "      <td>Healthy</td>\n",
       "      <td>0.0</td>\n",
       "      <td>Abandoned puppy looking for a home. Hi, he is ...</td>\n",
       "      <td>3.0</td>\n",
       "      <td>4a2270c3e-4.jpg</td>\n",
       "      <td>Mixed_Breed</td>\n",
       "    </tr>\n",
       "  </tbody>\n",
       "</table>\n",
       "</div>"
      ],
      "text/plain": [
       "  Type   Age  Gender Color1   Color2   Color3 MaturitySize FurLength  \\\n",
       "0  Dog  84.0    Male  Brown    Cream  Unknown        Small        No   \n",
       "1  Dog   1.0  Female  Black  Unknown  Unknown       Medium       Yes   \n",
       "2  Dog   1.0    Male  Brown  Unknown  Unknown       Medium       Yes   \n",
       "3  Dog   3.0    Male  Black  Unknown  Unknown       Medium       Yes   \n",
       "4  Dog   8.0    Male  Brown  Unknown  Unknown        Large       Yes   \n",
       "\n",
       "  Vaccinated Dewormed Sterilized   Health   Fee  \\\n",
       "0    Unknown      Yes         No  Healthy   0.0   \n",
       "1         No      Yes         No  Healthy  50.0   \n",
       "2         No       No         No  Healthy   0.0   \n",
       "3    Unknown      Yes    Unknown  Healthy   0.0   \n",
       "4        Yes      Yes         No  Healthy   0.0   \n",
       "\n",
       "                                         Description  AdoptionSpeed  \\\n",
       "0  He is either lost or abandoned. Please contact...            4.0   \n",
       "1  Hi, my name is Rose. I'm very friendly and am ...            3.0   \n",
       "2  Puppy's age is unknown. My husband went mounta...            1.0   \n",
       "3  Hi, I'm Randy, few weeks ago I got beaten by h...            4.0   \n",
       "4  Abandoned puppy looking for a home. Hi, he is ...            3.0   \n",
       "\n",
       "            Images        Breed  \n",
       "0  3b178aa59-5.jpg      Terrier  \n",
       "1  2fbf2cb7c-1.jpg  Mixed_Breed  \n",
       "2  97f683e04-1.jpg  Mixed_Breed  \n",
       "3  479500716-2.jpg  Mixed_Breed  \n",
       "4  4a2270c3e-4.jpg  Mixed_Breed  "
      ]
     },
     "execution_count": 4,
     "metadata": {},
     "output_type": "execute_result"
    }
   ],
   "source": [
    "train_df.head(5)"
   ]
  },
  {
   "cell_type": "code",
   "execution_count": 5,
   "metadata": {},
   "outputs": [
    {
     "data": {
      "text/html": [
       "<div>\n",
       "<style scoped>\n",
       "    .dataframe tbody tr th:only-of-type {\n",
       "        vertical-align: middle;\n",
       "    }\n",
       "\n",
       "    .dataframe tbody tr th {\n",
       "        vertical-align: top;\n",
       "    }\n",
       "\n",
       "    .dataframe thead th {\n",
       "        text-align: right;\n",
       "    }\n",
       "</style>\n",
       "<table border=\"1\" class=\"dataframe\">\n",
       "  <thead>\n",
       "    <tr style=\"text-align: right;\">\n",
       "      <th></th>\n",
       "      <th>Type</th>\n",
       "      <th>Age</th>\n",
       "      <th>Gender</th>\n",
       "      <th>Color1</th>\n",
       "      <th>Color2</th>\n",
       "      <th>Color3</th>\n",
       "      <th>MaturitySize</th>\n",
       "      <th>FurLength</th>\n",
       "      <th>Vaccinated</th>\n",
       "      <th>Dewormed</th>\n",
       "      <th>Sterilized</th>\n",
       "      <th>Health</th>\n",
       "      <th>Fee</th>\n",
       "      <th>Description</th>\n",
       "      <th>Images</th>\n",
       "      <th>Breed</th>\n",
       "    </tr>\n",
       "  </thead>\n",
       "  <tbody>\n",
       "    <tr>\n",
       "      <th>0</th>\n",
       "      <td>Cat</td>\n",
       "      <td>1.0</td>\n",
       "      <td>Male</td>\n",
       "      <td>Black</td>\n",
       "      <td>White</td>\n",
       "      <td>Unknown</td>\n",
       "      <td>Small</td>\n",
       "      <td>Yes</td>\n",
       "      <td>No</td>\n",
       "      <td>No</td>\n",
       "      <td>No</td>\n",
       "      <td>Healthy</td>\n",
       "      <td>0.0</td>\n",
       "      <td>kitten for adoption, pls call for enquiry, off...</td>\n",
       "      <td>5df99d229-2.jpg</td>\n",
       "      <td>Domestic_Short_Hair</td>\n",
       "    </tr>\n",
       "    <tr>\n",
       "      <th>1</th>\n",
       "      <td>Dog</td>\n",
       "      <td>8.0</td>\n",
       "      <td>Male</td>\n",
       "      <td>Black</td>\n",
       "      <td>Brown</td>\n",
       "      <td>Unknown</td>\n",
       "      <td>Medium</td>\n",
       "      <td>Yes</td>\n",
       "      <td>No</td>\n",
       "      <td>No</td>\n",
       "      <td>No</td>\n",
       "      <td>Healthy</td>\n",
       "      <td>0.0</td>\n",
       "      <td>Stray puppy that came to my house. Obedient, w...</td>\n",
       "      <td>a08030c6f-2.jpg</td>\n",
       "      <td>Mixed_Breed</td>\n",
       "    </tr>\n",
       "    <tr>\n",
       "      <th>2</th>\n",
       "      <td>Dog</td>\n",
       "      <td>2.0</td>\n",
       "      <td>Female</td>\n",
       "      <td>Brown</td>\n",
       "      <td>Cream</td>\n",
       "      <td>White</td>\n",
       "      <td>Medium</td>\n",
       "      <td>Unknown</td>\n",
       "      <td>Yes</td>\n",
       "      <td>Yes</td>\n",
       "      <td>No</td>\n",
       "      <td>Healthy</td>\n",
       "      <td>0.0</td>\n",
       "      <td>A kind person rescued her in an abandoned buil...</td>\n",
       "      <td>c8c3eb092-1.jpg</td>\n",
       "      <td>Mixed_Breed</td>\n",
       "    </tr>\n",
       "    <tr>\n",
       "      <th>3</th>\n",
       "      <td>Dog</td>\n",
       "      <td>3.0</td>\n",
       "      <td>Female</td>\n",
       "      <td>Black</td>\n",
       "      <td>Brown</td>\n",
       "      <td>Unknown</td>\n",
       "      <td>Medium</td>\n",
       "      <td>Yes</td>\n",
       "      <td>Yes</td>\n",
       "      <td>Yes</td>\n",
       "      <td>No</td>\n",
       "      <td>Healthy</td>\n",
       "      <td>0.0</td>\n",
       "      <td>Sweety as her name says is a sweet , fun and c...</td>\n",
       "      <td>56e91b142-1.jpg</td>\n",
       "      <td>Mixed_Breed</td>\n",
       "    </tr>\n",
       "    <tr>\n",
       "      <th>4</th>\n",
       "      <td>Cat</td>\n",
       "      <td>3.0</td>\n",
       "      <td>Female</td>\n",
       "      <td>Brown</td>\n",
       "      <td>Cream</td>\n",
       "      <td>White</td>\n",
       "      <td>Medium</td>\n",
       "      <td>Yes</td>\n",
       "      <td>No</td>\n",
       "      <td>No</td>\n",
       "      <td>No</td>\n",
       "      <td>Healthy</td>\n",
       "      <td>10.0</td>\n",
       "      <td>3 months old kitten for adoption. Female and p...</td>\n",
       "      <td>094636517-1.jpg</td>\n",
       "      <td>Domestic_Short_Hair</td>\n",
       "    </tr>\n",
       "  </tbody>\n",
       "</table>\n",
       "</div>"
      ],
      "text/plain": [
       "  Type  Age  Gender Color1 Color2   Color3 MaturitySize FurLength Vaccinated  \\\n",
       "0  Cat  1.0    Male  Black  White  Unknown        Small       Yes         No   \n",
       "1  Dog  8.0    Male  Black  Brown  Unknown       Medium       Yes         No   \n",
       "2  Dog  2.0  Female  Brown  Cream    White       Medium   Unknown        Yes   \n",
       "3  Dog  3.0  Female  Black  Brown  Unknown       Medium       Yes        Yes   \n",
       "4  Cat  3.0  Female  Brown  Cream    White       Medium       Yes         No   \n",
       "\n",
       "  Dewormed Sterilized   Health   Fee  \\\n",
       "0       No         No  Healthy   0.0   \n",
       "1       No         No  Healthy   0.0   \n",
       "2      Yes         No  Healthy   0.0   \n",
       "3      Yes         No  Healthy   0.0   \n",
       "4       No         No  Healthy  10.0   \n",
       "\n",
       "                                         Description           Images  \\\n",
       "0  kitten for adoption, pls call for enquiry, off...  5df99d229-2.jpg   \n",
       "1  Stray puppy that came to my house. Obedient, w...  a08030c6f-2.jpg   \n",
       "2  A kind person rescued her in an abandoned buil...  c8c3eb092-1.jpg   \n",
       "3  Sweety as her name says is a sweet , fun and c...  56e91b142-1.jpg   \n",
       "4  3 months old kitten for adoption. Female and p...  094636517-1.jpg   \n",
       "\n",
       "                 Breed  \n",
       "0  Domestic_Short_Hair  \n",
       "1          Mixed_Breed  \n",
       "2          Mixed_Breed  \n",
       "3          Mixed_Breed  \n",
       "4  Domestic_Short_Hair  "
      ]
     },
     "execution_count": 5,
     "metadata": {},
     "output_type": "execute_result"
    }
   ],
   "source": [
    "test_df.head(5)"
   ]
  },
  {
   "cell_type": "markdown",
   "metadata": {},
   "source": [
    "# Exploring and Cleaning Dataset"
   ]
  },
  {
   "cell_type": "code",
   "execution_count": 6,
   "metadata": {},
   "outputs": [
    {
     "data": {
      "text/plain": [
       "Type\n",
       "Dog    5380\n",
       "Cat    3620\n",
       "Name: count, dtype: int64"
      ]
     },
     "execution_count": 6,
     "metadata": {},
     "output_type": "execute_result"
    }
   ],
   "source": [
    "# Checking the type of animals given in the dataset\n",
    "train_df['Type'].value_counts()"
   ]
  },
  {
   "cell_type": "markdown",
   "metadata": {},
   "source": [
    "# checking the datatypes of the columns in train and test dataset"
   ]
  },
  {
   "cell_type": "code",
   "execution_count": 7,
   "metadata": {},
   "outputs": [
    {
     "data": {
      "text/plain": [
       "Type              object\n",
       "Age              float64\n",
       "Gender            object\n",
       "Color1            object\n",
       "Color2            object\n",
       "Color3            object\n",
       "MaturitySize      object\n",
       "FurLength         object\n",
       "Vaccinated        object\n",
       "Dewormed          object\n",
       "Sterilized        object\n",
       "Health            object\n",
       "Fee              float64\n",
       "Description       object\n",
       "AdoptionSpeed    float64\n",
       "Images            object\n",
       "Breed             object\n",
       "dtype: object"
      ]
     },
     "execution_count": 7,
     "metadata": {},
     "output_type": "execute_result"
    }
   ],
   "source": [
    "train_df.dtypes"
   ]
  },
  {
   "cell_type": "code",
   "execution_count": 8,
   "metadata": {},
   "outputs": [
    {
     "data": {
      "text/plain": [
       "Type             object\n",
       "Age             float64\n",
       "Gender           object\n",
       "Color1           object\n",
       "Color2           object\n",
       "Color3           object\n",
       "MaturitySize     object\n",
       "FurLength        object\n",
       "Vaccinated       object\n",
       "Dewormed         object\n",
       "Sterilized       object\n",
       "Health           object\n",
       "Fee             float64\n",
       "Description      object\n",
       "Images           object\n",
       "Breed            object\n",
       "dtype: object"
      ]
     },
     "execution_count": 8,
     "metadata": {},
     "output_type": "execute_result"
    }
   ],
   "source": [
    "test_df.dtypes"
   ]
  },
  {
   "cell_type": "markdown",
   "metadata": {},
   "source": [
    "# checking missing values in train and test dataset"
   ]
  },
  {
   "cell_type": "code",
   "execution_count": 9,
   "metadata": {},
   "outputs": [
    {
     "data": {
      "text/plain": [
       "Type             0\n",
       "Age              0\n",
       "Gender           0\n",
       "Color1           0\n",
       "Color2           0\n",
       "Color3           0\n",
       "MaturitySize     0\n",
       "FurLength        0\n",
       "Vaccinated       0\n",
       "Dewormed         0\n",
       "Sterilized       0\n",
       "Health           0\n",
       "Fee              0\n",
       "Description      0\n",
       "AdoptionSpeed    0\n",
       "Images           0\n",
       "Breed            0\n",
       "dtype: int64"
      ]
     },
     "execution_count": 9,
     "metadata": {},
     "output_type": "execute_result"
    }
   ],
   "source": [
    "missing_values_train =train_df.isnull().sum()\n",
    "missing_values_train"
   ]
  },
  {
   "cell_type": "code",
   "execution_count": 10,
   "metadata": {},
   "outputs": [
    {
     "data": {
      "text/plain": [
       "Type            0\n",
       "Age             0\n",
       "Gender          0\n",
       "Color1          0\n",
       "Color2          0\n",
       "Color3          0\n",
       "MaturitySize    0\n",
       "FurLength       0\n",
       "Vaccinated      0\n",
       "Dewormed        0\n",
       "Sterilized      0\n",
       "Health          0\n",
       "Fee             0\n",
       "Description     0\n",
       "Images          0\n",
       "Breed           0\n",
       "dtype: int64"
      ]
     },
     "execution_count": 10,
     "metadata": {},
     "output_type": "execute_result"
    }
   ],
   "source": [
    "missing_values_test= test_df.isnull().sum()\n",
    "missing_values_test"
   ]
  },
  {
   "cell_type": "markdown",
   "metadata": {},
   "source": [
    "# Age Column"
   ]
  },
  {
   "cell_type": "markdown",
   "metadata": {},
   "source": [
    "> We can see that Age is not normalized and scales of measuring the ages of Dogs and Cats are different, in order to make them standardized, I'll be converting this ages to Human Age's via transformers as we can then have a common measuring scale\n",
    "\n",
    "> Age is very important column according to me as people tend to buy more younger pets then the older one"
   ]
  },
  {
   "cell_type": "code",
   "execution_count": 11,
   "metadata": {},
   "outputs": [
    {
     "name": "stdout",
     "output_type": "stream",
     "text": [
      "\n",
      " Cat unique Age [  4.   1.   2.  12.  16.   5.   3.   9.   6.  18.  48.  10.   8.  36.\n",
      "  15.   7.   0.  24.  14.  72.  84.  30.  11.  17.  29.  19.  22.  34.\n",
      "  20.  38.  31.  21.  27.  80.  13.  60. 212.  40.  42.  28.  61. 120.\n",
      "  54.  23. 144.  25.  51.  26.  96.  41.  39. 108. 112.  67.  47.  62.\n",
      " 147.  92. 132.  73.  44. 180.  32.  33.  55.  46.]\n",
      "\n",
      " Dogs unique Age [ 84.   1.   3.   8.  24.  12.  18.  36.   2.  10.   4.   6.  60.   5.\n",
      "  48.  53.  29. 120.  42.  28.  30.  72.  96.   7.  20.   0.  15.  16.\n",
      "  17.   9.  11.  19.  22.  13.  14.  63.  62.  21. 180.  31. 156. 108.\n",
      "  41.  27.  52.  32.  78.  50.  46.  26.  33.  61.  54.  35.  51.  91.\n",
      "  87.  49.  89.  55.  77.  81.  85.  38.  80. 122.  39.  25.  45.  76.\n",
      " 144.  65.  66. 255.  67.  68. 117. 102.  37.  82.  23.  86.  74. 112.\n",
      "  64.  95.  56. 168. 132.  75.  34.  73. 212.  57.]\n"
     ]
    }
   ],
   "source": [
    "Cat_age = train_df.loc[train_df['Type']== 'Cat','Age'].unique()\n",
    "Dog_age= train_df.loc[train_df['Type']== 'Dog','Age'].unique()\n",
    "\n",
    "print('\\n Cat unique Age',Cat_age)\n",
    "print('\\n Dogs unique Age',Dog_age)"
   ]
  },
  {
   "cell_type": "markdown",
   "metadata": {},
   "source": [
    "> In order to have an Overview of the Dataset I'll be printing the unique values of each column"
   ]
  },
  {
   "cell_type": "code",
   "execution_count": 12,
   "metadata": {},
   "outputs": [
    {
     "name": "stdout",
     "output_type": "stream",
     "text": [
      "Unique values in Type: ['Dog' 'Cat']\n",
      "Unique values in Age: [ 84.   1.   3.   8.  24.  12.  18.  36.   4.   2.  10.  16.   5.   9.\n",
      "   6.  60.  48.  53.  29. 120.  42.  28.  30.  15.  72.   7.  96.   0.\n",
      "  20.  14.  17.  11.  19.  22.  13.  63.  62.  21. 180.  31. 156. 108.\n",
      "  34.  41.  27.  52.  32.  38.  78.  50.  46.  80.  26.  33. 212.  61.\n",
      "  54.  40.  35.  51.  91.  87.  49.  89.  55.  77.  81.  85. 122.  39.\n",
      "  25.  23.  45. 144.  76.  65.  66. 255. 112.  67.  68. 117. 102.  37.\n",
      "  82.  47. 147.  92.  86. 132.  74.  73.  44.  64.  95.  56. 168.  75.\n",
      "  57.]\n",
      "Unique values in Gender: ['Male' 'Female']\n",
      "Unique values in Color1: ['Brown' 'Black' 'Golden' 'White' 'Cream' 'Yellow' 'Gray']\n",
      "Unique values in Color2: ['Cream' 'Unknown' 'White' 'Golden' 'Gray' 'Brown' 'Yellow']\n",
      "Unique values in Color3: ['Unknown' 'White' 'Golden' 'Gray' 'Cream' 'Yellow']\n",
      "Unique values in MaturitySize: ['Small' 'Medium' 'Large' 'Extra Large']\n",
      "Unique values in FurLength: ['No' 'Yes' 'Unknown']\n",
      "Unique values in Vaccinated: ['Unknown' 'No' 'Yes']\n",
      "Unique values in Dewormed: ['Yes' 'No' 'Unknown']\n",
      "Unique values in Sterilized: ['No' 'Unknown' 'Yes']\n",
      "Unique values in Health: ['Healthy' 'Minor Injury' 'Serious Injury']\n",
      "Unique values in Fee: [0.00e+00 5.00e+01 3.00e+02 1.00e+02 1.50e+02 2.00e+02 3.50e+02 2.50e+02\n",
      " 1.00e+01 5.00e+02 3.00e+01 8.00e+01 2.00e+01 1.00e+00 6.88e+02 7.00e+01\n",
      " 3.80e+02 4.50e+02 4.00e+01 4.99e+02 1.90e+02 1.50e+01 1.20e+02 2.00e+03\n",
      " 1.10e+02 5.00e+00 3.50e+01 2.50e+01 1.60e+02 9.00e+01 6.00e+02 6.50e+02\n",
      " 4.00e+02 4.50e+01 2.70e+02 1.88e+02 8.00e+00 1.80e+02 9.00e+00 5.50e+02\n",
      " 3.80e+01 6.00e+01 1.70e+02 8.80e+01 5.90e+01 1.25e+02 3.90e+02 1.00e+03\n",
      " 7.00e+02 6.50e+01 2.20e+02 7.50e+01 1.08e+02 2.10e+02 2.35e+02 2.80e+02\n",
      " 4.80e+01 2.99e+02 7.50e+02 8.00e+02 5.99e+02 4.80e+02]\n",
      "Unique values in Description: ['He is either lost or abandoned. Please contact us if you know his owner...'\n",
      " \"Hi, my name is Rose. I'm very friendly and am always happy to see my rescuer when it's mealtime. I can't wait to find a new home where I will be given so much love, care and attention. I am very easy to train since I'm still young. I will grow to be a black beauty and be happy to see you always. Hopefully you will spay me when I'm 6 months old. One thing I can assure you of is my infinite love.\"\n",
      " \"Puppy's age is unknown. My husband went mountain biking on the 31 April when he saw this puppy trapped in a big drain. With the help of a pak cik in the Kampung, they used a ladder and my husband decended to pick it up. The kampung pwople said that the puppy was in this drain the entire night but they can't pick it up because haram. The puppy's mom came shortly and it was returned to his mom. Shortly about an hour later, the pak cik called my husband again to say that the same puppy had fallen into the same drain again. What a fate of this pup. We rushed our way there to the rescue, afrain this pup might drown. On our way, the pak cik called to say he went into the drain to pick this puppy up already and they put him into a basket in an empty lot for us to fetch it. We arrived in a hot sunny day. Found this puppy too exhausted to move. We brough him home, bathed and fed. Right now, puppy is sleeping, recovering from this traumatic experience. The breed is unknown. Think it's a regular estate dog. We hope someone reading this shows compassion and adopt, take good care of him.\"\n",
      " ... 'Active, healthy and sneeky.'\n",
      " \"Isaac was rescued from the street and grew up to be a sweet and obedient boy. His sparkly eyes are sure to melt everyone's heart! This sweetheart is now living with an over-crowded foster who may not be able to keep him for long. Isaac is a very playful and energetic boy, he is also intelligent enough to obey commands, all he needs now is a true home. If you are patient with young pups and able to take-in Isaac as part of your family, please feel free to contact us: \"\n",
      " \"We found her stuck in a drain. We managed to rescue her and decided to foster her till we find a better home for her. She's a big boned guard dog. Super alert and watchful. Very playful also. Very loyal. Get along with other dogs too. She deserves a forever home too.\"]\n",
      "Unique values in AdoptionSpeed: [4. 3. 1. 2. 0.]\n",
      "Unique values in Images: ['3b178aa59-5.jpg' '2fbf2cb7c-1.jpg' '97f683e04-1.jpg' ...\n",
      " 'f66e4eecf-5.jpg' '11948e0ef-1.jpg' '68a4cd579-1.jpg']\n",
      "Unique values in Breed: ['Terrier' 'Mixed_Breed' 'Cocker_Spaniel' 'German_Shepherd_Dog'\n",
      " 'Domestic_Medium_Hair' 'Bull_Terrier' 'Belgian_Shepherd_Malinois'\n",
      " 'English_Springer_Spaniel' 'Beagle' 'Siamese' 'Corgi' 'Siberian_Husky'\n",
      " 'Domestic_Short_Hair' 'Golden_Retriever' 'Coonhound' 'Maine_Coon'\n",
      " 'Persian' 'Tabby' 'Domestic_Long_Hair' 'Turkish_Angora' 'Calico'\n",
      " 'Basset_Hound' 'Rottweiler' 'English_Bulldog' 'Miniature_Pinscher'\n",
      " 'Ragdoll' 'Saint_Bernard' 'Labrador_Retriever' 'Shih_Tzu'\n",
      " 'Oriental_Tabby' 'Spitz' 'Doberman_Pinscher' 'Pit_Bull_Terrier'\n",
      " 'English_Cocker_Spaniel' 'Border_Collie' 'Yorkshire_Terrier_Yorkie'\n",
      " 'Singapura' 'West_Highland_White_Terrier_Westie' 'Schnauzer' 'Pekingese'\n",
      " 'Norwegian_Forest_Cat' 'Great_Dane' 'Bullmastiff' 'Tiger' 'Hound'\n",
      " 'Poodle' 'Toy_Fox_Terrier' 'Pomeranian' 'Collie' 'Tuxedo'\n",
      " 'Oriental_Short_Hair' 'Yellow_Labrador_Retriever' 'Bobtail'\n",
      " 'Bedlington_Terrier' 'Shetland_Sheepdog_Sheltie' 'Shar_Pei'\n",
      " 'Australian_Terrier' 'Jack_Russell_Terrier' 'Tortoiseshell' 'Bengal'\n",
      " 'Korat' 'Whippet' 'Dachshund' 'Javanese' 'Dalmatian' 'Mastiff' 'Manx'\n",
      " 'Abyssinian' 'Extra-Toes_Cat_(Hemingway_Polydactyl)' 'Chihuahua'\n",
      " 'American_Shorthair' 'British_Shorthair' 'Himalayan' 'Shepherd'\n",
      " 'Black_Labrador_Retriever' 'Silky_Terrier' 'Basenji' 'Burmese'\n",
      " 'Retriever' 'American_Water_Spaniel' 'American_Curl' 'Rat_Terrier'\n",
      " 'German_Pinscher' 'German_Spitz' 'Russian_Blue' 'Egyptian_Mau' 'Husky'\n",
      " 'Kai_Dog' 'Snowshoe' 'Oriental_Long_Hair' 'Belgian_Shepherd_Laekenois'\n",
      " 'Maltese' 'Flat-coated_Retriever' 'Boxer' 'Australian_Kelpie' 'Pug'\n",
      " 'Irish_Setter' 'Ragamuffin' 'Nebelung' 'Boston_Terrier' 'Munsterlander'\n",
      " 'Weimaraner' 'Foxhound' 'Jack_Russell_Terrier_(Parson_Russell_Terrier)'\n",
      " 'Shiba_Inu' 'Unknown' 'Black_Mouth_Cur' 'Bombay' 'Swedish_Vallhund'\n",
      " 'Silver' 'Turkish_Van' 'Tonkinese' 'American_Staffordshire_Terrier'\n",
      " 'Havana' 'English_Pointer' 'Dilute_Calico' 'Japanese_Bobtail' 'Ocicat'\n",
      " 'Greyhound' 'Lancashire_Heeler' 'Glen_of_Imaal_Terrier' 'Akita' 'Setter'\n",
      " 'Cymric' 'Australian_Shepherd' 'Wheaten_Terrier'\n",
      " 'Belgian_Shepherd_Dog_Sheepdog' 'Chartreux' 'Lhasa_Apso' 'Burmilla'\n",
      " 'French_Bulldog' 'Standard_Poodle' 'Cattle_Dog' 'Fox_Terrier' 'Papillon'\n",
      " 'Siberian' 'Welsh_Corgi' 'Cavalier_King_Charles_Spaniel' 'Birman'\n",
      " 'Somali' 'Lowchen' 'Irish_Terrier' 'Applehead_Siamese'\n",
      " 'Rhodesian_Ridgeback' 'Chinese_Crested_Dog' 'Manchester_Terrier'\n",
      " 'Spaniel' 'Chow_Chow' 'Samoyed' 'Field_Spaniel'\n",
      " 'Staffordshire_Bull_Terrier' 'Torbie' 'White_German_Shepherd']\n"
     ]
    }
   ],
   "source": [
    "for column in train_df.columns:\n",
    "    unique_values= train_df[column].unique()\n",
    "    print(f'Unique values in {column}: {unique_values}')"
   ]
  },
  {
   "cell_type": "code",
   "execution_count": 13,
   "metadata": {},
   "outputs": [
    {
     "data": {
      "text/plain": [
       "False"
      ]
     },
     "execution_count": 13,
     "metadata": {},
     "output_type": "execute_result"
    }
   ],
   "source": [
    "#checking for duplicacy in the Images column as images are named after the Pet ID's\n",
    "train_df['Images'].duplicated().any()"
   ]
  },
  {
   "cell_type": "markdown",
   "metadata": {},
   "source": [
    "> Categorizing the columns into numerical, categorical, text and images"
   ]
  },
  {
   "cell_type": "code",
   "execution_count": 14,
   "metadata": {},
   "outputs": [
    {
     "name": "stdout",
     "output_type": "stream",
     "text": [
      "Numerical columns : ['Age', 'Fee', 'AdoptionSpeed']\n",
      "\n",
      "Categorical columns : ['Type', 'Gender', 'Color1', 'Color2', 'Color3', 'MaturitySize', 'FurLength', 'Vaccinated', 'Dewormed', 'Sterilized', 'Health', 'Breed']\n",
      "\n",
      "Text columns : ['Description']\n",
      "\n",
      "Images columns : ['Images']\n"
     ]
    }
   ],
   "source": [
    "num_col = train_df.select_dtypes(include=['float64']).columns.tolist()  # Numeric columns\n",
    "cat_col = train_df.select_dtypes(include=['object']).drop(columns=['Images', 'Description']).columns.tolist() #categorical columns except images and text\n",
    "text_col=['Description']\n",
    "img_col=['Images']\n",
    "print('Numerical columns :',num_col)\n",
    "print(\"\\nCategorical columns :\",cat_col)\n",
    "print(\"\\nText columns :\",text_col)\n",
    "print(\"\\nImages columns :\",img_col)"
   ]
  },
  {
   "cell_type": "markdown",
   "metadata": {},
   "source": [
    "# Correlation "
   ]
  },
  {
   "cell_type": "markdown",
   "metadata": {},
   "source": [
    "> Need to findout correlation between the Numerical features and target column.\n",
    "\n",
    "> Even though \"Age\" and \"Fee\" have very less correlation with the target variable \"Adoption Speed\", I think they should not be deleted as they play very important role in predicting the Adoptionrate as to me it makes sense that person will adopt pet, if its younger and fees is less."
   ]
  },
  {
   "cell_type": "code",
   "execution_count": 15,
   "metadata": {},
   "outputs": [
    {
     "data": {
      "image/png": "[encoded data removed]",
      "text/plain": [
       "<Figure size 800x600 with 2 Axes>"
      ]
     },
     "metadata": {},
     "output_type": "display_data"
    }
   ],
   "source": [
    "import pandas as pd\n",
    "import seaborn as sns\n",
    "import matplotlib.pyplot as plt\n",
    "\n",
    "numerical_df = train_df[num_col]\n",
    "corr_matrix = numerical_df.corr().abs()\n",
    "\n",
    "# Plotting heatmap\n",
    "plt.figure(figsize=(8, 6))\n",
    "sns.heatmap(corr_matrix, annot=True, fmt=\".2f\", cmap='coolwarm', \n",
    "            xticklabels=corr_matrix.columns, yticklabels=corr_matrix.columns)\n",
    "plt.title('Correlation Heatmap for Numerical Columns and AdoptionSpeed')\n",
    "plt.show()"
   ]
  },
  {
   "cell_type": "markdown",
   "metadata": {},
   "source": [
    "> Loading the Images into the Train and Test Dataset"
   ]
  },
  {
   "cell_type": "code",
   "execution_count": 16,
   "metadata": {},
   "outputs": [
    {
     "data": {
      "text/plain": [
       "(9000, 17)"
      ]
     },
     "execution_count": 16,
     "metadata": {},
     "output_type": "execute_result"
    }
   ],
   "source": [
    "train_df.shape"
   ]
  },
  {
   "cell_type": "markdown",
   "metadata": {},
   "source": [
    "# Adding the Images to Dataset"
   ]
  },
  {
   "cell_type": "code",
   "execution_count": 17,
   "metadata": {},
   "outputs": [],
   "source": [
    "img_dir = \"/Users/ashwinichoudhary/Downloads/Adoption_2024/train_images/\"\n",
    "test_img_dir = \"/Users/ashwinichoudhary/Downloads/Adoption_2024/test_images/\"\n",
    "train_df['Images'] = [img_dir+img for img in train_df['Images']]\n",
    "test_df['Images']= [test_img_dir + img for img in test_df['Images']]"
   ]
  },
  {
   "cell_type": "code",
   "execution_count": 18,
   "metadata": {},
   "outputs": [
    {
     "data": {
      "text/plain": [
       "<matplotlib.image.AxesImage at 0x28c73f110>"
      ]
     },
     "execution_count": 18,
     "metadata": {},
     "output_type": "execute_result"
    },
    {
     "data": {
      "image/png": "[encoded data removed]",
      "text/plain": [
       "<Figure size 640x480 with 1 Axes>"
      ]
     },
     "metadata": {},
     "output_type": "display_data"
    }
   ],
   "source": [
    "\n",
    "from matplotlib.image import imread\n",
    "train_df['Images'][8]\n",
    "img = imread(train_df['Images'][9])\n",
    "plt.imshow(img, cmap='gray', interpolation='nearest', aspect='equal')"
   ]
  },
  {
   "cell_type": "markdown",
   "metadata": {},
   "source": [
    " ## columns which are categorized into 4 categories as mentioned below:\n",
    " \n",
    "\n",
    "> **Numerical columns:** ['Age', 'Fee', 'AdoptionSpeed']\n",
    "\n",
    "> **Categorical columns:** ['Type', 'Gender', 'Color1', 'Color2', 'Color3', 'MaturitySize', 'FurLength', 'Vaccinated', 'Dewormed', 'Sterilized', 'Health', 'Breed']\n",
    "\n",
    "> **Text columns:** ['Description']\n",
    "\n",
    "> **Images columns:** ['Images']\n"
   ]
  },
  {
   "cell_type": "markdown",
   "metadata": {},
   "source": [
    "# Preprocessing of the Data"
   ]
  },
  {
   "cell_type": "markdown",
   "metadata": {},
   "source": [
    "> **HANDLING TEXT DATA**\n",
    "\n",
    "**STEP1:** Remove the EMOJIS\n",
    "\n",
    "**STEP2:** Lower case the texts\n",
    "\n",
    "**STEP3:** Remove the puntuations\n",
    "\n",
    "**STEP4:** Remove the Stop words\n",
    "\n",
    "**STEP5:** Lemmatize the text\n",
    "\n"
   ]
  },
  {
   "cell_type": "code",
   "execution_count": 19,
   "metadata": {},
   "outputs": [],
   "source": [
    "from nltk.corpus import stopwords\n",
    "from nltk.tokenize import word_tokenize\n",
    "from nltk.util import ngrams\n",
    "from nltk.tokenize import WhitespaceTokenizer\n",
    "from nltk.stem import WordNetLemmatizer, PorterStemmer\n",
    "from nltk.stem.porter import PorterStemmer"
   ]
  },
  {
   "cell_type": "markdown",
   "metadata": {},
   "source": [
    "# Regex\n",
    "\n",
    "> Here I used the Regex pattern library so that I can input as many possibilites to remove the emojis and there kind."
   ]
  },
  {
   "cell_type": "code",
   "execution_count": 20,
   "metadata": {},
   "outputs": [],
   "source": [
    "# Function to remove emojis\n",
    "\n",
    "import re\n",
    "\n",
    "def remove_emojis(text):\n",
    "    \n",
    "    emoji_pattern = re.compile(\"[\"\n",
    "                               u\"\\U0001F600-\\U0001F64F\"  # emoticons\n",
    "                               u\"\\U0001F300-\\U0001F5FF\"  # symbols & pictographs\n",
    "                               u\"\\U0001F680-\\U0001F6FF\"  # transport & map symbols\n",
    "                               u\"\\U0001F1E0-\\U0001F1FF\"  # flags (iOS)\n",
    "                               u\"\\U0001F700-\\U0001F77F\"  # alchemical symbols\n",
    "                               u\"\\U0001F780-\\U0001F7FF\"  # Geometric Shapes Extended\n",
    "                               u\"\\U0001F800-\\U0001F8FF\"  # Supplemental Arrows-C\n",
    "                               u\"\\U0001F900-\\U0001F9FF\"  # Supplemental Symbols and Pictographs\n",
    "                               u\"\\U0001FA00-\\U0001FA6F\"  # Chess Symbols\n",
    "                               u\"\\U0001FA70-\\U0001FAFF\"  # Symbols and Pictographs Extended-A\n",
    "                               u\"\\U00002702-\\U000027B0\"  # Dingbats\n",
    "                               u\"\\U000024C2-\\U0001F251\" \n",
    "                               u\"\\U0001F910-\\U0001F97A\"\n",
    "                               u\"\\U0001F980-\\U0001F9B0\"\n",
    "                               u\"\\U0001F9C0-\\U0001F9FF\"\n",
    "                               u\"\\U0001FA60-\\U0001FA6F\"\n",
    "                               u\"\\U0001FA70-\\U0001FAFF\"\n",
    "                               u\"\\U00002600-\\U000026FF\"  # Miscellaneous Symbols\n",
    "                               u\"\\U00002700-\\U000027BF\"  # Dingbats\n",
    "                               u\"\\U00002B50\"\n",
    "                               u\"\\U000023E9-\\U000023FA\"  # Miscellaneous Technical\n",
    "                               \"]+\", flags=re.UNICODE)\n",
    "    return emoji_pattern.sub(r'', text) #It was replace emojis with the empty string\n"
   ]
  },
  {
   "cell_type": "markdown",
   "metadata": {},
   "source": [
    "# NLTK\n",
    "\n",
    "> I used NLTK English for Stop words "
   ]
  },
  {
   "cell_type": "code",
   "execution_count": 21,
   "metadata": {},
   "outputs": [],
   "source": [
    "#function to remove stop words\n",
    "\n",
    "def remove_stop_words(text):\n",
    "    stop_words = set(stopwords.words('english'))\n",
    "    word_tokens = word_tokenize(text)\n",
    "    \n",
    "    filtered_text = [word for word in word_tokens if word.lower() not in stop_words]\n",
    "    \n",
    "    return ' '.join(filtered_text)"
   ]
  },
  {
   "cell_type": "markdown",
   "metadata": {},
   "source": [
    "# Punctuations\n",
    "\n",
    "> Remove the Puntuations"
   ]
  },
  {
   "cell_type": "code",
   "execution_count": 22,
   "metadata": {},
   "outputs": [],
   "source": [
    "import re\n",
    "import string\n",
    "\n",
    "# Function to remove puntuations\n",
    "\n",
    "def remove_punctuation(text):\n",
    "    \n",
    "    punctuation_pattern = re.compile('[%s]' % re.escape(string.punctuation))\n",
    "\n",
    "    return punctuation_pattern.sub('', text)\n"
   ]
  },
  {
   "cell_type": "markdown",
   "metadata": {},
   "source": [
    "# Lemmatizer"
   ]
  },
  {
   "cell_type": "code",
   "execution_count": 23,
   "metadata": {},
   "outputs": [],
   "source": [
    "word_lemmatizer=  WordNetLemmatizer()\n",
    "\n",
    "# Final Function to integrate all the text preprocessing \n",
    "\n",
    "def cleaned_text(text):\n",
    "    text= remove_emojis(text)\n",
    "    text= text.lower()\n",
    "    text= remove_stop_words(text)\n",
    "    text= remove_punctuation(text)\n",
    "    text= word_lemmatizer.lemmatize(text)\n",
    "    return text"
   ]
  },
  {
   "cell_type": "markdown",
   "metadata": {},
   "source": [
    "## MyTextTransformer()\n",
    "\n",
    "> In order to merge all the functions and to apply **CountVectorizer()** I build my own custom Transformer, Also it will ease my process when I'll apply Random Search on it."
   ]
  },
  {
   "cell_type": "code",
   "execution_count": 24,
   "metadata": {},
   "outputs": [],
   "source": [
    "from sklearn.base import BaseEstimator, TransformerMixin\n",
    "from sklearn.feature_extraction.text import CountVectorizer\n",
    "\n",
    "\n",
    "class MyTextTransformer(BaseEstimator, TransformerMixin):\n",
    "    def __init__(self):\n",
    "        \n",
    "        self.cv = CountVectorizer()\n",
    "    \n",
    "    def fit(self, X, y=None):\n",
    "        \n",
    "        cleaned_texts = self._clean(X)\n",
    "        \n",
    "        self.cv.fit(cleaned_texts)\n",
    "        return self\n",
    "    \n",
    "    def transform(self, X, y=None):\n",
    "        \n",
    "        cleaned_texts = self._clean(X)\n",
    "        \n",
    "        return self.cv.transform(cleaned_texts)\n",
    "    \n",
    "    def fit_transform(self, X, y=None):\n",
    "        return super().fit_transform(X, y)\n",
    "    \n",
    "    def _clean(self, texts):\n",
    "        \n",
    "        cleaned_texts = [cleaned_text(text) for text in texts]\n",
    "        return cleaned_texts\n"
   ]
  },
  {
   "cell_type": "markdown",
   "metadata": {},
   "source": [
    "# Age Column Preprocessing - AgeConverter()\n",
    "\n",
    "> Here I made a custom transformer for the Age column in order to convert it into human age, I chose human age because I saw in the dataset tha parameters for age calculation for dogs and cat were different.So I order to have same calculating scale I chose to go with there respective human age.\n",
    "\n",
    "> Age is very important column as per my understanding in order to adopt pets as people tend to buy younger pets.\n",
    "\n",
    "> **Source: https://www.petsplusus.com/pet-information/health/age-calculator**\n",
    "\n",
    "> Here I'll divide the age of Cat's by (5) and Dog's by (7)"
   ]
  },
  {
   "cell_type": "code",
   "execution_count": 25,
   "metadata": {},
   "outputs": [],
   "source": [
    "from sklearn.base import BaseEstimator, TransformerMixin\n",
    "\n",
    "class AgeConverter(BaseEstimator, TransformerMixin):\n",
    "    def __init__(self, cat_scale=5, dog_scale=7):\n",
    "        \n",
    "        self.cat_scale = cat_scale\n",
    "        self.dog_scale = dog_scale\n",
    "    \n",
    "    def fit(self, X, y=None):\n",
    "\n",
    "        return self\n",
    "    \n",
    "    def transform(self, X):\n",
    "        \n",
    "        X_transformed = X.copy()\n",
    "        \n",
    "        # Apply the age conversion for cats\n",
    "        X_transformed.loc[X_transformed['Type'] == 'Cat', 'Age'] = \\\n",
    "            X_transformed.loc[X_transformed['Type'] == 'Cat', 'Age'] / self.cat_scale\n",
    "        \n",
    "        # Apply the age conversion for dogs\n",
    "        X_transformed.loc[X_transformed['Type'] == 'Dog', 'Age'] = \\\n",
    "            X_transformed.loc[X_transformed['Type'] == 'Dog', 'Age'] / self.dog_scale\n",
    "        \n",
    "        return X_transformed"
   ]
  },
  {
   "cell_type": "markdown",
   "metadata": {},
   "source": [
    "# Handling Images\n",
    "\n",
    "> **The base structure of the image handling functions was given by the professor I just had to fill them.**\n",
    "\n",
    "**Functions given by professor:**\n",
    "\n",
    "> `extract_SIFT` :\n",
    "\n",
    "**1. Load Images:** The function reads each image from the provided list of image paths using OpenCV's cv2.imread function.\n",
    "\n",
    "**2. Convert to Gray Scale:** Each loaded image is converted to grayscale with cv2.cvtColor and the cv2.COLOR_BGR2GRAY flag, preparing it for feature detection.\n",
    "\n",
    "**3. Extract SIFT (Scale-Invariant Feature Transform) Keypoints and Descriptors:** Initializes a SIFT detector using cv2.xfeatures2d.SIFT_create(), then applies it to each grayscale image to find keypoints and compute their descriptors.\n",
    "\n",
    "**4. Return the SIFT List:** Compiles and returns a list of descriptors for each image. Each element in the returned list corresponds to the SIFT descriptors of an image, facilitating further image analysis or matching tasks.\n",
    "\n",
    "> `clusterize` :\n",
    " \n",
    " **1. Stack the SIFT Features:** The function stacks the SIFT descriptors (features) from multiple images into a single array using np.vstack(SIFs), preparing them for clustering.\n",
    "\n",
    "**2. Create the KMeans Clusterizer:** Initializes a KMeans clustering model with the specified number of clusters (nb_cluster) using KMeans(n_clusters=nb_cluster) from scikit-learn.\n",
    "\n",
    "**3. Fit the Clusterizer with the SIFT Features:** The KMeans model is fitted to the stacked SIFT features to identify clusters among the features. This process partitions the features into nb_cluster distinct clusters based on their similarity.\n",
    "\n",
    "**4. Return the Clusterizer:** The function returns the fitted KMeans clusterizer object, which includes information about the clusters such as the cluster centers. This object can be used for further analysis or assigning new features to the identified clusters.\n",
    "\n",
    "\n",
    "> `build_BOFs` :\n",
    "\n",
    "**1. Initialize BOF Matrix:** Creates a zero matrix for the Bag of Features (BOF) representation, sized by the number of SIFT descriptor lists and the number of clusters in clusterizer.\n",
    "\n",
    "**2. Predict Cluster Labels:** Iterates over SIFT descriptor lists, using clusterizer to predict cluster labels for each descriptor.\n",
    "\n",
    "**3. Create and Normalize Histograms:** Generates a normalized histogram of cluster occurrences for each SIFT list, ensuring it sums to 1.\n",
    "\n",
    "**4. Return BOF Representation:** Outputs the matrix where each row is the BOF representation of an image's SIFT features, suitable for further analysis.\n",
    "\n",
    "\n",
    ">  `MyImageTransformer` :\n",
    "\n",
    "**1. Initialization:** Sets the number of clusters for KMeans clustering of SIFT features.\n",
    "\n",
    "**2. Fit:** Extracts SIFT features from images, then fits a KMeans model to these features.\n",
    "\n",
    "**3. Transform:** Converts new images to their BOF representations using the fitted model.\n",
    "\n",
    "**4. Fit_transform:** Combines fit and transform steps to directly produce BOF representations from input images, ready for machine learning applications."
   ]
  },
  {
   "cell_type": "code",
   "execution_count": 26,
   "metadata": {},
   "outputs": [],
   "source": [
    "import cv2\n",
    "\n",
    "def extract_SIFT(img_lst):\n",
    "    sift = sift = cv2.SIFT_create()\n",
    "    sift_lst = []\n",
    "    for img in img_lst:\n",
    "        img=cv2.imread(img) \n",
    "        gray = cv2.cvtColor(img, cv2.COLOR_BGR2GRAY) \n",
    "        kp, des = sift.detectAndCompute(gray, None)\n",
    "        sift_lst.append(des)\n",
    "    \n",
    "    return sift_lst"
   ]
  },
  {
   "cell_type": "code",
   "execution_count": 27,
   "metadata": {},
   "outputs": [],
   "source": [
    "from sklearn.cluster import KMeans\n",
    "\n",
    "def clusterize(SIFs, nb_cluster):\n",
    "    sift_features = np.vstack(SIFs)\n",
    "    clusterizer = KMeans(n_clusters=nb_cluster)\n",
    "    clusterizer.fit(sift_features)\n",
    "    return clusterizer\n"
   ]
  },
  {
   "cell_type": "code",
   "execution_count": 28,
   "metadata": {},
   "outputs": [],
   "source": [
    "def build_BOFs(SIFTs, clusterizer):\n",
    "  \n",
    "    bof_representation = np.zeros((len(SIFTs), clusterizer.n_clusters), dtype=np.float32)\n",
    "    \n",
    "    \n",
    "    for i, sift in enumerate(SIFTs):\n",
    "        cluster_labels = clusterizer.predict(sift) \n",
    "        histogram = np.bincount(cluster_labels, minlength=clusterizer.n_clusters) \n",
    "        histogram = histogram / histogram.sum() \n",
    "        bof_representation[i, :] = histogram\n",
    "    \n",
    "    return bof_representation"
   ]
  },
  {
   "cell_type": "code",
   "execution_count": 29,
   "metadata": {},
   "outputs": [],
   "source": [
    "from sklearn.base import BaseEstimator\n",
    "from sklearn.base import TransformerMixin\n",
    "\n",
    "\n",
    "class MyImageTransformer(BaseEstimator,TransformerMixin): \n",
    "    def __init__(self, nb_cluster=4):\n",
    "        self.nb_cluster=4\n",
    "\n",
    "    def fit(self, X, y=None): \n",
    "        self.SIFTs = extract_SIFT(X)\n",
    "        self.clusterizer = clusterize(SIFTs, self.nb_cluster)\n",
    "        \n",
    "    def transform(self, X, y=None): \n",
    "        self.SIFTs = extract_SIFT(X)\n",
    "        return build_BOFs(self.SIFTs, self.clusterizer)\n",
    "    \n",
    "    def fit_transform(self, X, y=None): \n",
    "        self.SIFTs = extract_SIFT(X)\n",
    "        self.clusterizer = clusterize(self.SIFTs, self.nb_cluster)\n",
    "        return build_BOFs(self.SIFTs, self.clusterizer)\n",
    "    "
   ]
  },
  {
   "cell_type": "markdown",
   "metadata": {},
   "source": [
    "# Handling Imbalance Data"
   ]
  },
  {
   "cell_type": "markdown",
   "metadata": {},
   "source": [
    "> As I can see that class 0 has very less values comparing other classes so I need to oversample the class."
   ]
  },
  {
   "cell_type": "code",
   "execution_count": 30,
   "metadata": {},
   "outputs": [
    {
     "data": {
      "text/plain": [
       "AdoptionSpeed\n",
       "2.0    2504\n",
       "4.0    2294\n",
       "3.0    2061\n",
       "1.0    1894\n",
       "0.0     247\n",
       "Name: count, dtype: int64"
      ]
     },
     "execution_count": 30,
     "metadata": {},
     "output_type": "execute_result"
    }
   ],
   "source": [
    "df_train_X = train_df.drop(['AdoptionSpeed'], axis = 1)\n",
    "df_train_y= train_df['AdoptionSpeed']\n",
    "\n",
    "df_train_y.value_counts()"
   ]
  },
  {
   "cell_type": "markdown",
   "metadata": {},
   "source": [
    "#  Splitting data and OverSampling\n",
    "\n",
    " ## Splitting was neccessary otherwise I would have faced the problem of data leakage\n",
    "\n",
    "> Here since we are using direct approach so I directly used **resample** module from sklearn instead of SMOTE\n",
    "\n",
    "> I kept the test size as 0.1 because I want more data in the training and I want to lose as much as less possible."
   ]
  },
  {
   "cell_type": "code",
   "execution_count": 31,
   "metadata": {},
   "outputs": [],
   "source": [
    "from sklearn.model_selection import train_test_split\n",
    "X_train_bf_sampling,X_val_bf_sampling,y_train_bf_sampling, y_val_bf_sampling= train_test_split(df_train_X,df_train_y,random_state=42,test_size=0.1)"
   ]
  },
  {
   "cell_type": "code",
   "execution_count": 32,
   "metadata": {},
   "outputs": [],
   "source": [
    "# minority and majority classes in y_train\n",
    "from sklearn.utils import resample\n",
    "\n",
    "df_train_split = pd.concat([X_train_bf_sampling, y_train_bf_sampling], axis=1)\n",
    "df_majority = df_train_split[df_train_split.AdoptionSpeed != 0]\n",
    "df_minority = df_train_split[df_train_split.AdoptionSpeed == 0]\n",
    "\n",
    "# Oversampling the minority class\n",
    "df_minority_oversampled = resample(df_minority,\n",
    "                                   replace=True,\n",
    "                                   n_samples=1800,  # Example to balance with the majority class\n",
    "                                   random_state=123)\n",
    "\n",
    "# Concatenating the resampled minority class with the majority class\n",
    "df_oversampled = pd.concat([df_majority, df_minority_oversampled])"
   ]
  },
  {
   "cell_type": "code",
   "execution_count": 33,
   "metadata": {},
   "outputs": [
    {
     "data": {
      "text/plain": [
       "AdoptionSpeed\n",
       "2.0    2261\n",
       "4.0    2049\n",
       "3.0    1851\n",
       "0.0    1800\n",
       "1.0    1711\n",
       "Name: count, dtype: int64"
      ]
     },
     "execution_count": 33,
     "metadata": {},
     "output_type": "execute_result"
    }
   ],
   "source": [
    "df_oversampled[\"AdoptionSpeed\"].value_counts()"
   ]
  },
  {
   "cell_type": "code",
   "execution_count": 34,
   "metadata": {},
   "outputs": [],
   "source": [
    "\n",
    "X_test=test_df.copy()\n",
    "\n",
    "X_train = df_oversampled.drop(['AdoptionSpeed'], axis = 1)\n",
    "\n",
    "y_train = np.array(df_oversampled['AdoptionSpeed']).reshape((-1,1))\n"
   ]
  },
  {
   "cell_type": "code",
   "execution_count": 35,
   "metadata": {},
   "outputs": [
    {
     "name": "stdout",
     "output_type": "stream",
     "text": [
      "shape of X_train:  (9672, 16)\n",
      "shape of y_train:  (9672, 1)\n",
      "shape of X_test:  (500, 16)\n"
     ]
    }
   ],
   "source": [
    "print('shape of X_train: ',X_train.shape)\n",
    "print('shape of y_train: ',y_train.shape)\n",
    "\n",
    "print('shape of X_test: ',X_test.shape)\n"
   ]
  },
  {
   "cell_type": "markdown",
   "metadata": {},
   "source": [
    "# Function for Metrics"
   ]
  },
  {
   "cell_type": "code",
   "execution_count": 36,
   "metadata": {},
   "outputs": [],
   "source": [
    "from sklearn.metrics import make_scorer\n",
    "from sklearn.metrics import mean_squared_error, accuracy_score, r2_score, f1_score,cohen_kappa_score\n",
    "\n",
    "\n",
    "kappa_score = make_scorer(cohen_kappa_score, weights='quadratic')"
   ]
  },
  {
   "cell_type": "markdown",
   "metadata": {},
   "source": [
    "**Source**: https://scikit-learn.org/stable/"
   ]
  },
  {
   "cell_type": "code",
   "execution_count": 37,
   "metadata": {},
   "outputs": [],
   "source": [
    "from sklearn.metrics import ConfusionMatrixDisplay\n",
    "def getMetrics(y_train,y_pred):\n",
    "    y_pred=y_pred.astype(int)\n",
    "    mse_train = mean_squared_error(y_train, y_pred)\n",
    "    acc_train = accuracy_score(y_train, y_pred)\n",
    "    kappa_train=cohen_kappa_score(y_train,y_pred,weights=\"quadratic\")\n",
    "    train=[['Train',mse_train,acc_train,kappa_train]]\n",
    "    metrics=['Dataset','MSE','Acc','Kappa']\n",
    "    df = pd.DataFrame(train, columns=metrics) \n",
    "    return df,ConfusionMatrixDisplay.from_predictions(y_train, y_pred.astype(int), cmap=\"Blues\")"
   ]
  },
  {
   "cell_type": "markdown",
   "metadata": {},
   "source": [
    "# Reducing Dataframe for Cross Validation\n",
    "\n",
    "> Here I took exactly 800 samples of each class in order to perform cross validation and get the best parameters, Getting best parameters with all the 9000 samples was very time consuming so I took 800 samples.\n"
   ]
  },
  {
   "cell_type": "code",
   "execution_count": 37,
   "metadata": {},
   "outputs": [
    {
     "name": "stdout",
     "output_type": "stream",
     "text": [
      "AdoptionSpeed\n",
      "1.0    800\n",
      "4.0    800\n",
      "2.0    800\n",
      "3.0    800\n",
      "0.0    800\n",
      "Name: count, dtype: int64\n"
     ]
    }
   ],
   "source": [
    "from sklearn.utils import resample\n",
    "\n",
    "n_samples = 800\n",
    "resampled_dfs = []\n",
    "\n",
    "for class_value in df_oversampled['AdoptionSpeed'].unique():\n",
    "    df_class = df_oversampled[df_oversampled.AdoptionSpeed == class_value]\n",
    "    \n",
    "\n",
    "    df_class_resampled = resample(df_class, \n",
    "                                  replace=len(df_class) < n_samples,\n",
    "                                  n_samples=n_samples, \n",
    "                                  random_state=123)\n",
    "    \n",
    "    \n",
    "    resampled_dfs.append(df_class_resampled)\n",
    "\n",
    "df_balanced = pd.concat(resampled_dfs)\n",
    "\n",
    "print(df_balanced['AdoptionSpeed'].value_counts())"
   ]
  },
  {
   "cell_type": "code",
   "execution_count": 38,
   "metadata": {},
   "outputs": [
    {
     "data": {
      "text/plain": [
       "(4000, 17)"
      ]
     },
     "execution_count": 38,
     "metadata": {},
     "output_type": "execute_result"
    }
   ],
   "source": [
    "df_balanced.shape"
   ]
  },
  {
   "cell_type": "code",
   "execution_count": 39,
   "metadata": {},
   "outputs": [],
   "source": [
    "X_train_balanced= df_balanced.drop(['AdoptionSpeed'], axis = 1)\n",
    "y_train_balanced = np.array(df_balanced['AdoptionSpeed']).reshape((-1,1))"
   ]
  },
  {
   "cell_type": "code",
   "execution_count": 40,
   "metadata": {},
   "outputs": [
    {
     "data": {
      "text/plain": [
       "(4000, 1)"
      ]
     },
     "execution_count": 40,
     "metadata": {},
     "output_type": "execute_result"
    }
   ],
   "source": [
    "X_train_balanced.shape\n",
    "y_train_balanced.shape"
   ]
  },
  {
   "cell_type": "markdown",
   "metadata": {},
   "source": [
    "# Cross Validation Function - CrossVal()\n",
    "\n",
    "> I used made a function for cross validation as I'll be performing this on many models, and I can call the function it will make my task easy.\n",
    "\n"
   ]
  },
  {
   "cell_type": "code",
   "execution_count": 1,
   "metadata": {},
   "outputs": [],
   "source": [
    "# here I removed 'AdoptionSpeed' from the num_col as its the target variable and it will be stored in y_train\n",
    "\n",
    "num_col = ['Age', 'Fee']\n",
    "cat_col = ['Type', 'Gender', 'Color1', 'Color2', 'Color3', 'MaturitySize', 'FurLength', 'Vaccinated', 'Dewormed', 'Sterilized', 'Health', 'Breed']\n",
    "text_cols = ['Description'] \n",
    "img_cols=['Images']"
   ]
  },
  {
   "cell_type": "code",
   "execution_count": 42,
   "metadata": {},
   "outputs": [],
   "source": [
    "\n",
    "\n",
    "def CrossVal(model, classifier_param_distributions, n_iter=100):\n",
    "    start_time = time.time()\n",
    "\n",
    "    pipeline = Pipeline(steps=[\n",
    "        ('age', AgeConverter()), \n",
    "        (\"transform\", ColumnTransformer(transformers=[\n",
    "            ('numeric', MinMaxScaler(), num_col),\n",
    "            ('categorical', OneHotEncoder(handle_unknown='ignore'), cat_col),\n",
    "            ('image', MyImageTransformer(), 'Images'), #passing string as my function accepts string instead of a list.\n",
    "            ('text', MyTextTransformer(), 'Description') #here also passing string instead of list.\n",
    "        ])),\n",
    "        ('clf', model)\n",
    "    ])\n",
    "    \n",
    "    # random search cv\n",
    "    random_search = RandomizedSearchCV(pipeline, classifier_param_distributions, n_iter=n_iter, cv=5, verbose=3, scoring=kappa_score, random_state=42)\n",
    "\n",
    "    random_search.fit(X_train_balanced, np.array(y_train_balanced).ravel())\n",
    "    print(\"--- Random Search Execution : %s seconds ---\" % (time.time() - start_time))\n",
    "    return random_search\n"
   ]
  },
  {
   "cell_type": "markdown",
   "metadata": {},
   "source": [
    "# Random Forest Classifier Parameters grid\n",
    "\n",
    "> Here I made combination of hyperparameters for randomforest I took help of sklearn documentation to do it.\n",
    "\n",
    "> **Source:** https://scikit-learn.org/stable/modules/generated/sklearn.ensemble.RandomForestClassifier.html"
   ]
  },
  {
   "cell_type": "code",
   "execution_count": null,
   "metadata": {},
   "outputs": [],
   "source": [
    "forest_param_grid = [\n",
    "        {\n",
    "            'transform__numeric':[MinMaxScaler()],\n",
    "            'transform__numeric__feature_range': [(0, 1), (-1, 1)],\n",
    "            'transform__categorical':[OneHotEncoder(handle_unknown='ignore')],\n",
    "            'clf__n_estimators': [10, 100, 1000],\n",
    "            'clf__max_depth': [None, 5, 10,100]\n",
    "        },\n",
    "         {\n",
    "             'transform__numeric':[StandardScaler()],\n",
    "             'transform__numeric__copy': [True,False],\n",
    "             'transform__categorical':[OneHotEncoder(handle_unknown='ignore')],\n",
    "             'clf__n_estimators': [10, 100,1000],\n",
    "             'clf__max_depth': [None,5, 10,100]\n",
    "         },\n",
    "        {\n",
    "            'transform__numeric':[MinMaxScaler()],\n",
    "            'transform__numeric__feature_range': [(0, 1), (-1, 1)],\n",
    "            'transform__categorical':[CountVectorizer()],\n",
    "            'clf__n_estimators': [10, 100, 1000],\n",
    "            'clf__max_depth': [None, 5, 10,100]\n",
    "        },\n",
    "         {\n",
    "             'transform__numeric':[StandardScaler()],\n",
    "             'transform__numeric__copy': [True,False],\n",
    "             'transform__categorical':[CountVectorizer()],\n",
    "             'clf__n_estimators': [10, 100,1000],\n",
    "             'clf__max_depth': [None,5, 10,100]\n",
    "         }\n",
    "    ]\n",
    "\n",
    "RandomForestGrid=CrossVal(RandomForestClassifier(),forest_param_grid)\n"
   ]
  },
  {
   "cell_type": "markdown",
   "metadata": {},
   "source": [
    "# Best parameters and score for Randomforest algorithm"
   ]
  },
  {
   "cell_type": "code",
   "execution_count": 44,
   "metadata": {},
   "outputs": [
    {
     "name": "stdout",
     "output_type": "stream",
     "text": [
      "Best Parameters:  {'transform__numeric__copy': True, 'transform__numeric': StandardScaler(), 'transform__categorical': OneHotEncoder(handle_unknown='ignore'), 'clf__n_estimators': 1000, 'clf__max_depth': None}\n",
      "Best Score:  0.6357044571262562\n"
     ]
    }
   ],
   "source": [
    "print(\"Best Parameters: \",RandomForestGrid.best_params_)\n",
    "print(\"Best Score: \",RandomForestGrid.best_score_)"
   ]
  },
  {
   "cell_type": "markdown",
   "metadata": {},
   "source": [
    "#  Logistic Regression parameter grid\n",
    "\n",
    "> **Source:** https://scikit-learn.org/stable/modules/generated/sklearn.linear_model.LogisticRegression.html"
   ]
  },
  {
   "cell_type": "code",
   "execution_count": null,
   "metadata": {},
   "outputs": [],
   "source": [
    "\n",
    "\n",
    "Logistic_reg_grid=[\n",
    "\n",
    "        {\n",
    "            'transform__numeric':[MinMaxScaler()],\n",
    "            'transform__numeric__feature_range': [(0, 1), (-1, 1)],\n",
    "            'transform__categorical':[OneHotEncoder(handle_unknown='ignore')],\n",
    "            'clf__C': [1, 10, 100, 1000],\n",
    "            'clf__fit_intercept': [True, False],\n",
    "            'clf__solver':['newton-cg','sag','saga','lbfgs']\n",
    "\n",
    "        },\n",
    "         {\n",
    "            'transform__numeric':[StandardScaler()],\n",
    "            'transform__numeric__copy': [True,False],\n",
    "            'transform__categorical':[OneHotEncoder(handle_unknown='ignore')],\n",
    "            'clf__C': [1, 10, 100, 1000],\n",
    "            'clf__fit_intercept': [True, False],\n",
    "            'clf__solver':['newton-cg','sag','saga','lbfgs']\n",
    "         },\n",
    "        \n",
    "    ]\n",
    "\n",
    "logistic_parameters=CrossVal(LogisticRegression(max_iter=10000),Logistic_reg_grid)\n"
   ]
  },
  {
   "cell_type": "markdown",
   "metadata": {},
   "source": [
    "# Best parameters and score for Logistic Regression"
   ]
  },
  {
   "cell_type": "code",
   "execution_count": 42,
   "metadata": {},
   "outputs": [
    {
     "name": "stdout",
     "output_type": "stream",
     "text": [
      "Best Parameters:  {'transform__numeric__feature_range': (-1, 1), 'transform__numeric': MinMaxScaler(feature_range=(-1, 1)), 'transform__categorical': OneHotEncoder(handle_unknown='ignore'), 'clf__solver': 'saga', 'clf__fit_intercept': True, 'clf__C': 1}\n",
      "Best Score:  0.5349897650203409\n"
     ]
    }
   ],
   "source": [
    "print(\"Best Parameters: \",logistic_parameters.best_params_)\n",
    "print(\"Best Score: \",logistic_parameters.best_score_)"
   ]
  },
  {
   "cell_type": "markdown",
   "metadata": {},
   "source": [
    "# Naive Bayes parameters grid\n",
    "\n",
    "> **Source:** https://scikit-learn.org/stable/modules/naive_bayes.html\n",
    "\n",
    ">**Note:** I did not used Standard Scaler as it produces some negative values and naive bayes does not accept it, it strictly works on positive values."
   ]
  },
  {
   "cell_type": "code",
   "execution_count": null,
   "metadata": {},
   "outputs": [],
   "source": [
    "naive_bayes_param_grid=[{\n",
    "            'transform__numeric__feature_range': [(0, 1)],\n",
    "            'clf__alpha': [0.1, 0.5, 1.0, 2.0]\n",
    "        },\n",
    "        {\n",
    "            'transform__numeric':[MinMaxScaler()],\n",
    "            'transform__numeric__feature_range': [(0, 1)], # I made range here 0 to 1 as naive bayes donot take negative values\n",
    "            'transform__categorical':[OneHotEncoder(handle_unknown='ignore')],\n",
    "            'clf__alpha': [0.1, 0.5, 1.0, 2.0]\n",
    "        },\n",
    "         {  'transform__numeric':[MinMaxScaler()], \n",
    "            'transform__numeric__feature_range': [(0, 1)],\n",
    "            'transform__categorical':[CountVectorizer()],\n",
    "            'clf__alpha': [0.1, 0.5, 1.0, 2.0]\n",
    "\n",
    "         }]\n",
    "\n",
    "\n",
    "naive_bayes_parameters= CrossVal(MultinomialNB(),naive_bayes_param_grid)"
   ]
  },
  {
   "cell_type": "markdown",
   "metadata": {},
   "source": [
    "# Naive Bayes Best parameters and score"
   ]
  },
  {
   "cell_type": "code",
   "execution_count": 44,
   "metadata": {},
   "outputs": [
    {
     "name": "stdout",
     "output_type": "stream",
     "text": [
      "Best Parameters:  {'transform__numeric__feature_range': (0, 1), 'clf__alpha': 0.1}\n",
      "Best Score:  0.4864053666361599\n"
     ]
    }
   ],
   "source": [
    "print(\"Best Parameters: \",naive_bayes_parameters.best_params_)\n",
    "print(\"Best Score: \",naive_bayes_parameters.best_score_)"
   ]
  },
  {
   "cell_type": "markdown",
   "metadata": {},
   "source": [
    "# Boosting parameter grid\n",
    "\n",
    "**Source:** https://scikit-learn.org/stable/modules/generated/sklearn.ensemble.GradientBoostingClassifier.html\n"
   ]
  },
  {
   "cell_type": "code",
   "execution_count": null,
   "metadata": {},
   "outputs": [],
   "source": [
    "boosting_param_grid=[{\n",
    "            'transform__numeric':[MinMaxScaler()],\n",
    "            'transform__numeric__feature_range': [(0, 1), (-1, 1)],\n",
    "            'transform__categorical':[OneHotEncoder(handle_unknown='ignore')],\n",
    "            'clf__n_estimators': [50, 100, 200],\n",
    "            'clf__max_depth': [3, 5, 7],\n",
    "            'clf__subsample': [0.5, 0.75, 1.0],        \n",
    "            'clf__loss':['log_loss','deviance','exponential'],\n",
    "            'clf__learning_rate': [0.01, 0.1, 0.5]    },\n",
    "         {\n",
    "            'transform__numeric':[StandardScaler()],\n",
    "            'transform__numeric__copy': [True,False],\n",
    "            'transform__categorical':[OneHotEncoder(handle_unknown='ignore')],\n",
    "            'clf__n_estimators': [50, 100, 200],\n",
    "            'clf__max_depth': [3, 5, 7],\n",
    "            'clf__subsample': [0.5, 0.75, 1.0],        \n",
    "            'clf__loss':['log_loss','deviance','exponential'],\n",
    "            'clf__learning_rate': [0.01, 0.1, 0.5]     \n",
    "            }]\n",
    "\n",
    "Boosting_best_parameters=CrossVal(GradientBoostingClassifier(),boosting_param_grid)"
   ]
  },
  {
   "cell_type": "markdown",
   "metadata": {},
   "source": [
    "# Boosting Best Parameters"
   ]
  },
  {
   "cell_type": "code",
   "execution_count": 43,
   "metadata": {},
   "outputs": [
    {
     "name": "stdout",
     "output_type": "stream",
     "text": [
      "Best Parameters:  {'transform__numeric__copy': True, 'transform__numeric': StandardScaler(), 'transform__categorical': OneHotEncoder(handle_unknown='ignore'), 'clf__subsample': 0.5, 'clf__n_estimators': 200, 'clf__max_depth': 7, 'clf__loss': 'log_loss', 'clf__learning_rate': 0.1}\n",
      "Best Score:  0.6028789198242098\n"
     ]
    }
   ],
   "source": [
    "print(\"Best Parameters: \",Boosting_best_parameters.best_params_)\n",
    "print(\"Best Score: \",Boosting_best_parameters.best_score_)"
   ]
  },
  {
   "cell_type": "markdown",
   "metadata": {},
   "source": [
    "# Fitting pipelines of models with Best parameters"
   ]
  },
  {
   "cell_type": "code",
   "execution_count": 35,
   "metadata": {},
   "outputs": [],
   "source": [
    "from sklearn.model_selection import train_test_split\n",
    "X_train_new, X_validation, y_train_new, y_val = train_test_split(X_train, y_train, test_size=0.2, random_state=42)\n"
   ]
  },
  {
   "cell_type": "markdown",
   "metadata": {},
   "source": [
    "# Logistic Regression with Best parameters\n",
    "\n",
    "## Explanation for choosing the parameters:\n",
    "\n",
    "> `fit_intercept`: there's no need for the model to calculate the intercept. This is beneficial because my features are already scaled or normalized, so my algorithm will have one less parameter to train.\n",
    "\n",
    "> `solver`: As I wanted my crossvalidation should include solver so that I know that what will be the best solver for my complex data.\n",
    "\n",
    ">  `max_iter`: I defoined explicitly to 10000 so that algorithm gets sufficient iterations to converge the optimizer `lbfgs`.\n",
    "\n",
    "> `MinMaxScaler`: To normalize the numerical data I needed it and feature range was fount out using the crossvalidation."
   ]
  },
  {
   "cell_type": "code",
   "execution_count": 51,
   "metadata": {},
   "outputs": [
    {
     "name": "stderr",
     "output_type": "stream",
     "text": [
      "/Library/Frameworks/Python.framework/Versions/3.11/lib/python3.11/site-packages/sklearn/cluster/_kmeans.py:1412: FutureWarning: The default value of `n_init` will change from 10 to 'auto' in 1.4. Set the value of `n_init` explicitly to suppress the warning\n",
      "  super()._check_params_vs_input(X, default_n_init=10)\n"
     ]
    },
    {
     "data": {
      "text/html": [
       "<style>#sk-container-id-2 {color: black;}#sk-container-id-2 pre{padding: 0;}#sk-container-id-2 div.sk-toggleable {background-color: white;}#sk-container-id-2 label.sk-toggleable__label {cursor: pointer;display: block;width: 100%;margin-bottom: 0;padding: 0.3em;box-sizing: border-box;text-align: center;}#sk-container-id-2 label.sk-toggleable__label-arrow:before {content: \"▸\";float: left;margin-right: 0.25em;color: #696969;}#sk-container-id-2 label.sk-toggleable__label-arrow:hover:before {color: black;}#sk-container-id-2 div.sk-estimator:hover label.sk-toggleable__label-arrow:before {color: black;}#sk-container-id-2 div.sk-toggleable__content {max-height: 0;max-width: 0;overflow: hidden;text-align: left;background-color: #f0f8ff;}#sk-container-id-2 div.sk-toggleable__content pre {margin: 0.2em;color: black;border-radius: 0.25em;background-color: #f0f8ff;}#sk-container-id-2 input.sk-toggleable__control:checked~div.sk-toggleable__content {max-height: 200px;max-width: 100%;overflow: auto;}#sk-container-id-2 input.sk-toggleable__control:checked~label.sk-toggleable__label-arrow:before {content: \"▾\";}#sk-container-id-2 div.sk-estimator input.sk-toggleable__control:checked~label.sk-toggleable__label {background-color: #d4ebff;}#sk-container-id-2 div.sk-label input.sk-toggleable__control:checked~label.sk-toggleable__label {background-color: #d4ebff;}#sk-container-id-2 input.sk-hidden--visually {border: 0;clip: rect(1px 1px 1px 1px);clip: rect(1px, 1px, 1px, 1px);height: 1px;margin: -1px;overflow: hidden;padding: 0;position: absolute;width: 1px;}#sk-container-id-2 div.sk-estimator {font-family: monospace;background-color: #f0f8ff;border: 1px dotted black;border-radius: 0.25em;box-sizing: border-box;margin-bottom: 0.5em;}#sk-container-id-2 div.sk-estimator:hover {background-color: #d4ebff;}#sk-container-id-2 div.sk-parallel-item::after {content: \"\";width: 100%;border-bottom: 1px solid gray;flex-grow: 1;}#sk-container-id-2 div.sk-label:hover label.sk-toggleable__label {background-color: #d4ebff;}#sk-container-id-2 div.sk-serial::before {content: \"\";position: absolute;border-left: 1px solid gray;box-sizing: border-box;top: 0;bottom: 0;left: 50%;z-index: 0;}#sk-container-id-2 div.sk-serial {display: flex;flex-direction: column;align-items: center;background-color: white;padding-right: 0.2em;padding-left: 0.2em;position: relative;}#sk-container-id-2 div.sk-item {position: relative;z-index: 1;}#sk-container-id-2 div.sk-parallel {display: flex;align-items: stretch;justify-content: center;background-color: white;position: relative;}#sk-container-id-2 div.sk-item::before, #sk-container-id-2 div.sk-parallel-item::before {content: \"\";position: absolute;border-left: 1px solid gray;box-sizing: border-box;top: 0;bottom: 0;left: 50%;z-index: -1;}#sk-container-id-2 div.sk-parallel-item {display: flex;flex-direction: column;z-index: 1;position: relative;background-color: white;}#sk-container-id-2 div.sk-parallel-item:first-child::after {align-self: flex-end;width: 50%;}#sk-container-id-2 div.sk-parallel-item:last-child::after {align-self: flex-start;width: 50%;}#sk-container-id-2 div.sk-parallel-item:only-child::after {width: 0;}#sk-container-id-2 div.sk-dashed-wrapped {border: 1px dashed gray;margin: 0 0.4em 0.5em 0.4em;box-sizing: border-box;padding-bottom: 0.4em;background-color: white;}#sk-container-id-2 div.sk-label label {font-family: monospace;font-weight: bold;display: inline-block;line-height: 1.2em;}#sk-container-id-2 div.sk-label-container {text-align: center;}#sk-container-id-2 div.sk-container {/* jupyter's `normalize.less` sets `[hidden] { display: none; }` but bootstrap.min.css set `[hidden] { display: none !important; }` so we also need the `!important` here to be able to override the default hidden behavior on the sphinx rendered scikit-learn.org. See: https://github.com/scikit-learn/scikit-learn/issues/21755 */display: inline-block !important;position: relative;}#sk-container-id-2 div.sk-text-repr-fallback {display: none;}</style><div id=\"sk-container-id-2\" class=\"sk-top-container\"><div class=\"sk-text-repr-fallback\"><pre>Pipeline(steps=[(&#x27;age&#x27;, AgeConverter()),\n",
       "                (&#x27;transform&#x27;,\n",
       "                 ColumnTransformer(transformers=[(&#x27;numeric&#x27;,\n",
       "                                                  MinMaxScaler(feature_range=(-1,\n",
       "                                                                              1)),\n",
       "                                                  [&#x27;Age&#x27;, &#x27;Fee&#x27;]),\n",
       "                                                 (&#x27;categorical&#x27;,\n",
       "                                                  OneHotEncoder(handle_unknown=&#x27;ignore&#x27;),\n",
       "                                                  [&#x27;Type&#x27;, &#x27;Gender&#x27;, &#x27;Color1&#x27;,\n",
       "                                                   &#x27;Color2&#x27;, &#x27;Color3&#x27;,\n",
       "                                                   &#x27;MaturitySize&#x27;, &#x27;FurLength&#x27;,\n",
       "                                                   &#x27;Vaccinated&#x27;, &#x27;Dewormed&#x27;,\n",
       "                                                   &#x27;Sterilized&#x27;, &#x27;Health&#x27;,\n",
       "                                                   &#x27;Breed&#x27;]),\n",
       "                                                 (&#x27;image&#x27;, MyImageTransformer(),\n",
       "                                                  &#x27;Images&#x27;),\n",
       "                                                 (&#x27;text&#x27;, MyTextTransformer(),\n",
       "                                                  &#x27;Description&#x27;)])),\n",
       "                (&#x27;clf&#x27;,\n",
       "                 LogisticRegression(C=10, fit_intercept=False,\n",
       "                                    max_iter=10000))])</pre><b>In a Jupyter environment, please rerun this cell to show the HTML representation or trust the notebook. <br />On GitHub, the HTML representation is unable to render, please try loading this page with nbviewer.org.</b></div><div class=\"sk-container\" hidden><div class=\"sk-item sk-dashed-wrapped\"><div class=\"sk-label-container\"><div class=\"sk-label sk-toggleable\"><input class=\"sk-toggleable__control sk-hidden--visually\" id=\"sk-estimator-id-13\" type=\"checkbox\" ><label for=\"sk-estimator-id-13\" class=\"sk-toggleable__label sk-toggleable__label-arrow\">Pipeline</label><div class=\"sk-toggleable__content\"><pre>Pipeline(steps=[(&#x27;age&#x27;, AgeConverter()),\n",
       "                (&#x27;transform&#x27;,\n",
       "                 ColumnTransformer(transformers=[(&#x27;numeric&#x27;,\n",
       "                                                  MinMaxScaler(feature_range=(-1,\n",
       "                                                                              1)),\n",
       "                                                  [&#x27;Age&#x27;, &#x27;Fee&#x27;]),\n",
       "                                                 (&#x27;categorical&#x27;,\n",
       "                                                  OneHotEncoder(handle_unknown=&#x27;ignore&#x27;),\n",
       "                                                  [&#x27;Type&#x27;, &#x27;Gender&#x27;, &#x27;Color1&#x27;,\n",
       "                                                   &#x27;Color2&#x27;, &#x27;Color3&#x27;,\n",
       "                                                   &#x27;MaturitySize&#x27;, &#x27;FurLength&#x27;,\n",
       "                                                   &#x27;Vaccinated&#x27;, &#x27;Dewormed&#x27;,\n",
       "                                                   &#x27;Sterilized&#x27;, &#x27;Health&#x27;,\n",
       "                                                   &#x27;Breed&#x27;]),\n",
       "                                                 (&#x27;image&#x27;, MyImageTransformer(),\n",
       "                                                  &#x27;Images&#x27;),\n",
       "                                                 (&#x27;text&#x27;, MyTextTransformer(),\n",
       "                                                  &#x27;Description&#x27;)])),\n",
       "                (&#x27;clf&#x27;,\n",
       "                 LogisticRegression(C=10, fit_intercept=False,\n",
       "                                    max_iter=10000))])</pre></div></div></div><div class=\"sk-serial\"><div class=\"sk-item\"><div class=\"sk-estimator sk-toggleable\"><input class=\"sk-toggleable__control sk-hidden--visually\" id=\"sk-estimator-id-14\" type=\"checkbox\" ><label for=\"sk-estimator-id-14\" class=\"sk-toggleable__label sk-toggleable__label-arrow\">AgeConverter</label><div class=\"sk-toggleable__content\"><pre>AgeConverter()</pre></div></div></div><div class=\"sk-item sk-dashed-wrapped\"><div class=\"sk-label-container\"><div class=\"sk-label sk-toggleable\"><input class=\"sk-toggleable__control sk-hidden--visually\" id=\"sk-estimator-id-15\" type=\"checkbox\" ><label for=\"sk-estimator-id-15\" class=\"sk-toggleable__label sk-toggleable__label-arrow\">transform: ColumnTransformer</label><div class=\"sk-toggleable__content\"><pre>ColumnTransformer(transformers=[(&#x27;numeric&#x27;, MinMaxScaler(feature_range=(-1, 1)),\n",
       "                                 [&#x27;Age&#x27;, &#x27;Fee&#x27;]),\n",
       "                                (&#x27;categorical&#x27;,\n",
       "                                 OneHotEncoder(handle_unknown=&#x27;ignore&#x27;),\n",
       "                                 [&#x27;Type&#x27;, &#x27;Gender&#x27;, &#x27;Color1&#x27;, &#x27;Color2&#x27;,\n",
       "                                  &#x27;Color3&#x27;, &#x27;MaturitySize&#x27;, &#x27;FurLength&#x27;,\n",
       "                                  &#x27;Vaccinated&#x27;, &#x27;Dewormed&#x27;, &#x27;Sterilized&#x27;,\n",
       "                                  &#x27;Health&#x27;, &#x27;Breed&#x27;]),\n",
       "                                (&#x27;image&#x27;, MyImageTransformer(), &#x27;Images&#x27;),\n",
       "                                (&#x27;text&#x27;, MyTextTransformer(), &#x27;Description&#x27;)])</pre></div></div></div><div class=\"sk-parallel\"><div class=\"sk-parallel-item\"><div class=\"sk-item\"><div class=\"sk-label-container\"><div class=\"sk-label sk-toggleable\"><input class=\"sk-toggleable__control sk-hidden--visually\" id=\"sk-estimator-id-16\" type=\"checkbox\" ><label for=\"sk-estimator-id-16\" class=\"sk-toggleable__label sk-toggleable__label-arrow\">numeric</label><div class=\"sk-toggleable__content\"><pre>[&#x27;Age&#x27;, &#x27;Fee&#x27;]</pre></div></div></div><div class=\"sk-serial\"><div class=\"sk-item\"><div class=\"sk-estimator sk-toggleable\"><input class=\"sk-toggleable__control sk-hidden--visually\" id=\"sk-estimator-id-17\" type=\"checkbox\" ><label for=\"sk-estimator-id-17\" class=\"sk-toggleable__label sk-toggleable__label-arrow\">MinMaxScaler</label><div class=\"sk-toggleable__content\"><pre>MinMaxScaler(feature_range=(-1, 1))</pre></div></div></div></div></div></div><div class=\"sk-parallel-item\"><div class=\"sk-item\"><div class=\"sk-label-container\"><div class=\"sk-label sk-toggleable\"><input class=\"sk-toggleable__control sk-hidden--visually\" id=\"sk-estimator-id-18\" type=\"checkbox\" ><label for=\"sk-estimator-id-18\" class=\"sk-toggleable__label sk-toggleable__label-arrow\">categorical</label><div class=\"sk-toggleable__content\"><pre>[&#x27;Type&#x27;, &#x27;Gender&#x27;, &#x27;Color1&#x27;, &#x27;Color2&#x27;, &#x27;Color3&#x27;, &#x27;MaturitySize&#x27;, &#x27;FurLength&#x27;, &#x27;Vaccinated&#x27;, &#x27;Dewormed&#x27;, &#x27;Sterilized&#x27;, &#x27;Health&#x27;, &#x27;Breed&#x27;]</pre></div></div></div><div class=\"sk-serial\"><div class=\"sk-item\"><div class=\"sk-estimator sk-toggleable\"><input class=\"sk-toggleable__control sk-hidden--visually\" id=\"sk-estimator-id-19\" type=\"checkbox\" ><label for=\"sk-estimator-id-19\" class=\"sk-toggleable__label sk-toggleable__label-arrow\">OneHotEncoder</label><div class=\"sk-toggleable__content\"><pre>OneHotEncoder(handle_unknown=&#x27;ignore&#x27;)</pre></div></div></div></div></div></div><div class=\"sk-parallel-item\"><div class=\"sk-item\"><div class=\"sk-label-container\"><div class=\"sk-label sk-toggleable\"><input class=\"sk-toggleable__control sk-hidden--visually\" id=\"sk-estimator-id-20\" type=\"checkbox\" ><label for=\"sk-estimator-id-20\" class=\"sk-toggleable__label sk-toggleable__label-arrow\">image</label><div class=\"sk-toggleable__content\"><pre>Images</pre></div></div></div><div class=\"sk-serial\"><div class=\"sk-item\"><div class=\"sk-estimator sk-toggleable\"><input class=\"sk-toggleable__control sk-hidden--visually\" id=\"sk-estimator-id-21\" type=\"checkbox\" ><label for=\"sk-estimator-id-21\" class=\"sk-toggleable__label sk-toggleable__label-arrow\">MyImageTransformer</label><div class=\"sk-toggleable__content\"><pre>MyImageTransformer()</pre></div></div></div></div></div></div><div class=\"sk-parallel-item\"><div class=\"sk-item\"><div class=\"sk-label-container\"><div class=\"sk-label sk-toggleable\"><input class=\"sk-toggleable__control sk-hidden--visually\" id=\"sk-estimator-id-22\" type=\"checkbox\" ><label for=\"sk-estimator-id-22\" class=\"sk-toggleable__label sk-toggleable__label-arrow\">text</label><div class=\"sk-toggleable__content\"><pre>Description</pre></div></div></div><div class=\"sk-serial\"><div class=\"sk-item\"><div class=\"sk-estimator sk-toggleable\"><input class=\"sk-toggleable__control sk-hidden--visually\" id=\"sk-estimator-id-23\" type=\"checkbox\" ><label for=\"sk-estimator-id-23\" class=\"sk-toggleable__label sk-toggleable__label-arrow\">MyTextTransformer</label><div class=\"sk-toggleable__content\"><pre>MyTextTransformer()</pre></div></div></div></div></div></div></div></div><div class=\"sk-item\"><div class=\"sk-estimator sk-toggleable\"><input class=\"sk-toggleable__control sk-hidden--visually\" id=\"sk-estimator-id-24\" type=\"checkbox\" ><label for=\"sk-estimator-id-24\" class=\"sk-toggleable__label sk-toggleable__label-arrow\">LogisticRegression</label><div class=\"sk-toggleable__content\"><pre>LogisticRegression(C=10, fit_intercept=False, max_iter=10000)</pre></div></div></div></div></div></div></div>"
      ],
      "text/plain": [
       "Pipeline(steps=[('age', AgeConverter()),\n",
       "                ('transform',\n",
       "                 ColumnTransformer(transformers=[('numeric',\n",
       "                                                  MinMaxScaler(feature_range=(-1,\n",
       "                                                                              1)),\n",
       "                                                  ['Age', 'Fee']),\n",
       "                                                 ('categorical',\n",
       "                                                  OneHotEncoder(handle_unknown='ignore'),\n",
       "                                                  ['Type', 'Gender', 'Color1',\n",
       "                                                   'Color2', 'Color3',\n",
       "                                                   'MaturitySize', 'FurLength',\n",
       "                                                   'Vaccinated', 'Dewormed',\n",
       "                                                   'Sterilized', 'Health',\n",
       "                                                   'Breed']),\n",
       "                                                 ('image', MyImageTransformer(),\n",
       "                                                  'Images'),\n",
       "                                                 ('text', MyTextTransformer(),\n",
       "                                                  'Description')])),\n",
       "                ('clf',\n",
       "                 LogisticRegression(C=10, fit_intercept=False,\n",
       "                                    max_iter=10000))])"
      ]
     },
     "execution_count": 51,
     "metadata": {},
     "output_type": "execute_result"
    }
   ],
   "source": [
    "logistic_reg_images=LogisticRegression(fit_intercept=False,C=10,solver='lbfgs',max_iter=10000)\n",
    "\n",
    "logistic_reg_Pipeline=Pipeline(steps=[\n",
    "        \n",
    "        ('age',AgeConverter()), \n",
    "        (\"transform\",ColumnTransformer(transformers=[\n",
    "            ('numeric',MinMaxScaler(feature_range=(-1, 1)),num_col),\n",
    "            ('categorical',OneHotEncoder(handle_unknown='ignore'),cat_col),\n",
    "            ('image',MyImageTransformer(),'Images'),\n",
    "            ('text',MyTextTransformer(),'Description')\n",
    "        ])),\n",
    "        ('clf',logistic_reg_images)\n",
    "    ])\n",
    "\n",
    "logistic_reg_Pipeline.fit(X_train_new, np.array(y_train_new).ravel()) "
   ]
  },
  {
   "cell_type": "markdown",
   "metadata": {},
   "source": [
    "> Predictions on X_validation to get the kappa score"
   ]
  },
  {
   "cell_type": "code",
   "execution_count": 52,
   "metadata": {},
   "outputs": [
    {
     "data": {
      "text/plain": [
       "(  Dataset       MSE       Acc     Kappa\n",
       " 0   Train  1.688299  0.473709  0.575269,\n",
       " <sklearn.metrics._plot.confusion_matrix.ConfusionMatrixDisplay at 0x290e36710>)"
      ]
     },
     "execution_count": 52,
     "metadata": {},
     "output_type": "execute_result"
    },
    {
     "data": {
      "image/png": "[encoded data removed]",
      "text/plain": [
       "<Figure size 640x480 with 2 Axes>"
      ]
     },
     "metadata": {},
     "output_type": "display_data"
    }
   ],
   "source": [
    "logistic_reg_pred=logistic_reg_Pipeline.predict(X_validation)\n",
    "getMetrics(y_val,logistic_reg_pred)"
   ]
  },
  {
   "cell_type": "markdown",
   "metadata": {},
   "source": [
    "# Naive bayes pipeline with best parameter\n",
    "\n",
    "## Explanation for choosing these parameters:\n",
    "\n",
    "> `alpha`: I chose alpha as one parameter as it provides smoothening to the discrete data and handle the problem of zero probabilities.\n",
    "\n",
    "> `MinMaxscaler`: here I chose `MinMaxScaler` instead of `StandardScaler` because StandardScaler takes negative values into account which is not possible for Naive bayes to calculate, hence I used MinMaxScaler and mentioning range from 0 to 1."
   ]
  },
  {
   "cell_type": "code",
   "execution_count": 64,
   "metadata": {},
   "outputs": [
    {
     "name": "stderr",
     "output_type": "stream",
     "text": [
      "/Library/Frameworks/Python.framework/Versions/3.11/lib/python3.11/site-packages/sklearn/cluster/_kmeans.py:1412: FutureWarning: The default value of `n_init` will change from 10 to 'auto' in 1.4. Set the value of `n_init` explicitly to suppress the warning\n",
      "  super()._check_params_vs_input(X, default_n_init=10)\n"
     ]
    },
    {
     "data": {
      "text/html": [
       "<style>#sk-container-id-4 {color: black;}#sk-container-id-4 pre{padding: 0;}#sk-container-id-4 div.sk-toggleable {background-color: white;}#sk-container-id-4 label.sk-toggleable__label {cursor: pointer;display: block;width: 100%;margin-bottom: 0;padding: 0.3em;box-sizing: border-box;text-align: center;}#sk-container-id-4 label.sk-toggleable__label-arrow:before {content: \"▸\";float: left;margin-right: 0.25em;color: #696969;}#sk-container-id-4 label.sk-toggleable__label-arrow:hover:before {color: black;}#sk-container-id-4 div.sk-estimator:hover label.sk-toggleable__label-arrow:before {color: black;}#sk-container-id-4 div.sk-toggleable__content {max-height: 0;max-width: 0;overflow: hidden;text-align: left;background-color: #f0f8ff;}#sk-container-id-4 div.sk-toggleable__content pre {margin: 0.2em;color: black;border-radius: 0.25em;background-color: #f0f8ff;}#sk-container-id-4 input.sk-toggleable__control:checked~div.sk-toggleable__content {max-height: 200px;max-width: 100%;overflow: auto;}#sk-container-id-4 input.sk-toggleable__control:checked~label.sk-toggleable__label-arrow:before {content: \"▾\";}#sk-container-id-4 div.sk-estimator input.sk-toggleable__control:checked~label.sk-toggleable__label {background-color: #d4ebff;}#sk-container-id-4 div.sk-label input.sk-toggleable__control:checked~label.sk-toggleable__label {background-color: #d4ebff;}#sk-container-id-4 input.sk-hidden--visually {border: 0;clip: rect(1px 1px 1px 1px);clip: rect(1px, 1px, 1px, 1px);height: 1px;margin: -1px;overflow: hidden;padding: 0;position: absolute;width: 1px;}#sk-container-id-4 div.sk-estimator {font-family: monospace;background-color: #f0f8ff;border: 1px dotted black;border-radius: 0.25em;box-sizing: border-box;margin-bottom: 0.5em;}#sk-container-id-4 div.sk-estimator:hover {background-color: #d4ebff;}#sk-container-id-4 div.sk-parallel-item::after {content: \"\";width: 100%;border-bottom: 1px solid gray;flex-grow: 1;}#sk-container-id-4 div.sk-label:hover label.sk-toggleable__label {background-color: #d4ebff;}#sk-container-id-4 div.sk-serial::before {content: \"\";position: absolute;border-left: 1px solid gray;box-sizing: border-box;top: 0;bottom: 0;left: 50%;z-index: 0;}#sk-container-id-4 div.sk-serial {display: flex;flex-direction: column;align-items: center;background-color: white;padding-right: 0.2em;padding-left: 0.2em;position: relative;}#sk-container-id-4 div.sk-item {position: relative;z-index: 1;}#sk-container-id-4 div.sk-parallel {display: flex;align-items: stretch;justify-content: center;background-color: white;position: relative;}#sk-container-id-4 div.sk-item::before, #sk-container-id-4 div.sk-parallel-item::before {content: \"\";position: absolute;border-left: 1px solid gray;box-sizing: border-box;top: 0;bottom: 0;left: 50%;z-index: -1;}#sk-container-id-4 div.sk-parallel-item {display: flex;flex-direction: column;z-index: 1;position: relative;background-color: white;}#sk-container-id-4 div.sk-parallel-item:first-child::after {align-self: flex-end;width: 50%;}#sk-container-id-4 div.sk-parallel-item:last-child::after {align-self: flex-start;width: 50%;}#sk-container-id-4 div.sk-parallel-item:only-child::after {width: 0;}#sk-container-id-4 div.sk-dashed-wrapped {border: 1px dashed gray;margin: 0 0.4em 0.5em 0.4em;box-sizing: border-box;padding-bottom: 0.4em;background-color: white;}#sk-container-id-4 div.sk-label label {font-family: monospace;font-weight: bold;display: inline-block;line-height: 1.2em;}#sk-container-id-4 div.sk-label-container {text-align: center;}#sk-container-id-4 div.sk-container {/* jupyter's `normalize.less` sets `[hidden] { display: none; }` but bootstrap.min.css set `[hidden] { display: none !important; }` so we also need the `!important` here to be able to override the default hidden behavior on the sphinx rendered scikit-learn.org. See: https://github.com/scikit-learn/scikit-learn/issues/21755 */display: inline-block !important;position: relative;}#sk-container-id-4 div.sk-text-repr-fallback {display: none;}</style><div id=\"sk-container-id-4\" class=\"sk-top-container\"><div class=\"sk-text-repr-fallback\"><pre>Pipeline(steps=[(&#x27;age&#x27;, AgeConverter()),\n",
       "                (&#x27;transform&#x27;,\n",
       "                 ColumnTransformer(transformers=[(&#x27;numeric&#x27;, MinMaxScaler(),\n",
       "                                                  [&#x27;Age&#x27;, &#x27;Fee&#x27;]),\n",
       "                                                 (&#x27;categorical&#x27;,\n",
       "                                                  OneHotEncoder(handle_unknown=&#x27;ignore&#x27;),\n",
       "                                                  [&#x27;Type&#x27;, &#x27;Gender&#x27;, &#x27;Color1&#x27;,\n",
       "                                                   &#x27;Color2&#x27;, &#x27;Color3&#x27;,\n",
       "                                                   &#x27;MaturitySize&#x27;, &#x27;FurLength&#x27;,\n",
       "                                                   &#x27;Vaccinated&#x27;, &#x27;Dewormed&#x27;,\n",
       "                                                   &#x27;Sterilized&#x27;, &#x27;Health&#x27;,\n",
       "                                                   &#x27;Breed&#x27;]),\n",
       "                                                 (&#x27;image&#x27;, MyImageTransformer(),\n",
       "                                                  &#x27;Images&#x27;),\n",
       "                                                 (&#x27;text&#x27;, MyTextTransformer(),\n",
       "                                                  &#x27;Description&#x27;)])),\n",
       "                (&#x27;clf&#x27;, MultinomialNB(alpha=0.1))])</pre><b>In a Jupyter environment, please rerun this cell to show the HTML representation or trust the notebook. <br />On GitHub, the HTML representation is unable to render, please try loading this page with nbviewer.org.</b></div><div class=\"sk-container\" hidden><div class=\"sk-item sk-dashed-wrapped\"><div class=\"sk-label-container\"><div class=\"sk-label sk-toggleable\"><input class=\"sk-toggleable__control sk-hidden--visually\" id=\"sk-estimator-id-37\" type=\"checkbox\" ><label for=\"sk-estimator-id-37\" class=\"sk-toggleable__label sk-toggleable__label-arrow\">Pipeline</label><div class=\"sk-toggleable__content\"><pre>Pipeline(steps=[(&#x27;age&#x27;, AgeConverter()),\n",
       "                (&#x27;transform&#x27;,\n",
       "                 ColumnTransformer(transformers=[(&#x27;numeric&#x27;, MinMaxScaler(),\n",
       "                                                  [&#x27;Age&#x27;, &#x27;Fee&#x27;]),\n",
       "                                                 (&#x27;categorical&#x27;,\n",
       "                                                  OneHotEncoder(handle_unknown=&#x27;ignore&#x27;),\n",
       "                                                  [&#x27;Type&#x27;, &#x27;Gender&#x27;, &#x27;Color1&#x27;,\n",
       "                                                   &#x27;Color2&#x27;, &#x27;Color3&#x27;,\n",
       "                                                   &#x27;MaturitySize&#x27;, &#x27;FurLength&#x27;,\n",
       "                                                   &#x27;Vaccinated&#x27;, &#x27;Dewormed&#x27;,\n",
       "                                                   &#x27;Sterilized&#x27;, &#x27;Health&#x27;,\n",
       "                                                   &#x27;Breed&#x27;]),\n",
       "                                                 (&#x27;image&#x27;, MyImageTransformer(),\n",
       "                                                  &#x27;Images&#x27;),\n",
       "                                                 (&#x27;text&#x27;, MyTextTransformer(),\n",
       "                                                  &#x27;Description&#x27;)])),\n",
       "                (&#x27;clf&#x27;, MultinomialNB(alpha=0.1))])</pre></div></div></div><div class=\"sk-serial\"><div class=\"sk-item\"><div class=\"sk-estimator sk-toggleable\"><input class=\"sk-toggleable__control sk-hidden--visually\" id=\"sk-estimator-id-38\" type=\"checkbox\" ><label for=\"sk-estimator-id-38\" class=\"sk-toggleable__label sk-toggleable__label-arrow\">AgeConverter</label><div class=\"sk-toggleable__content\"><pre>AgeConverter()</pre></div></div></div><div class=\"sk-item sk-dashed-wrapped\"><div class=\"sk-label-container\"><div class=\"sk-label sk-toggleable\"><input class=\"sk-toggleable__control sk-hidden--visually\" id=\"sk-estimator-id-39\" type=\"checkbox\" ><label for=\"sk-estimator-id-39\" class=\"sk-toggleable__label sk-toggleable__label-arrow\">transform: ColumnTransformer</label><div class=\"sk-toggleable__content\"><pre>ColumnTransformer(transformers=[(&#x27;numeric&#x27;, MinMaxScaler(), [&#x27;Age&#x27;, &#x27;Fee&#x27;]),\n",
       "                                (&#x27;categorical&#x27;,\n",
       "                                 OneHotEncoder(handle_unknown=&#x27;ignore&#x27;),\n",
       "                                 [&#x27;Type&#x27;, &#x27;Gender&#x27;, &#x27;Color1&#x27;, &#x27;Color2&#x27;,\n",
       "                                  &#x27;Color3&#x27;, &#x27;MaturitySize&#x27;, &#x27;FurLength&#x27;,\n",
       "                                  &#x27;Vaccinated&#x27;, &#x27;Dewormed&#x27;, &#x27;Sterilized&#x27;,\n",
       "                                  &#x27;Health&#x27;, &#x27;Breed&#x27;]),\n",
       "                                (&#x27;image&#x27;, MyImageTransformer(), &#x27;Images&#x27;),\n",
       "                                (&#x27;text&#x27;, MyTextTransformer(), &#x27;Description&#x27;)])</pre></div></div></div><div class=\"sk-parallel\"><div class=\"sk-parallel-item\"><div class=\"sk-item\"><div class=\"sk-label-container\"><div class=\"sk-label sk-toggleable\"><input class=\"sk-toggleable__control sk-hidden--visually\" id=\"sk-estimator-id-40\" type=\"checkbox\" ><label for=\"sk-estimator-id-40\" class=\"sk-toggleable__label sk-toggleable__label-arrow\">numeric</label><div class=\"sk-toggleable__content\"><pre>[&#x27;Age&#x27;, &#x27;Fee&#x27;]</pre></div></div></div><div class=\"sk-serial\"><div class=\"sk-item\"><div class=\"sk-estimator sk-toggleable\"><input class=\"sk-toggleable__control sk-hidden--visually\" id=\"sk-estimator-id-41\" type=\"checkbox\" ><label for=\"sk-estimator-id-41\" class=\"sk-toggleable__label sk-toggleable__label-arrow\">MinMaxScaler</label><div class=\"sk-toggleable__content\"><pre>MinMaxScaler()</pre></div></div></div></div></div></div><div class=\"sk-parallel-item\"><div class=\"sk-item\"><div class=\"sk-label-container\"><div class=\"sk-label sk-toggleable\"><input class=\"sk-toggleable__control sk-hidden--visually\" id=\"sk-estimator-id-42\" type=\"checkbox\" ><label for=\"sk-estimator-id-42\" class=\"sk-toggleable__label sk-toggleable__label-arrow\">categorical</label><div class=\"sk-toggleable__content\"><pre>[&#x27;Type&#x27;, &#x27;Gender&#x27;, &#x27;Color1&#x27;, &#x27;Color2&#x27;, &#x27;Color3&#x27;, &#x27;MaturitySize&#x27;, &#x27;FurLength&#x27;, &#x27;Vaccinated&#x27;, &#x27;Dewormed&#x27;, &#x27;Sterilized&#x27;, &#x27;Health&#x27;, &#x27;Breed&#x27;]</pre></div></div></div><div class=\"sk-serial\"><div class=\"sk-item\"><div class=\"sk-estimator sk-toggleable\"><input class=\"sk-toggleable__control sk-hidden--visually\" id=\"sk-estimator-id-43\" type=\"checkbox\" ><label for=\"sk-estimator-id-43\" class=\"sk-toggleable__label sk-toggleable__label-arrow\">OneHotEncoder</label><div class=\"sk-toggleable__content\"><pre>OneHotEncoder(handle_unknown=&#x27;ignore&#x27;)</pre></div></div></div></div></div></div><div class=\"sk-parallel-item\"><div class=\"sk-item\"><div class=\"sk-label-container\"><div class=\"sk-label sk-toggleable\"><input class=\"sk-toggleable__control sk-hidden--visually\" id=\"sk-estimator-id-44\" type=\"checkbox\" ><label for=\"sk-estimator-id-44\" class=\"sk-toggleable__label sk-toggleable__label-arrow\">image</label><div class=\"sk-toggleable__content\"><pre>Images</pre></div></div></div><div class=\"sk-serial\"><div class=\"sk-item\"><div class=\"sk-estimator sk-toggleable\"><input class=\"sk-toggleable__control sk-hidden--visually\" id=\"sk-estimator-id-45\" type=\"checkbox\" ><label for=\"sk-estimator-id-45\" class=\"sk-toggleable__label sk-toggleable__label-arrow\">MyImageTransformer</label><div class=\"sk-toggleable__content\"><pre>MyImageTransformer()</pre></div></div></div></div></div></div><div class=\"sk-parallel-item\"><div class=\"sk-item\"><div class=\"sk-label-container\"><div class=\"sk-label sk-toggleable\"><input class=\"sk-toggleable__control sk-hidden--visually\" id=\"sk-estimator-id-46\" type=\"checkbox\" ><label for=\"sk-estimator-id-46\" class=\"sk-toggleable__label sk-toggleable__label-arrow\">text</label><div class=\"sk-toggleable__content\"><pre>Description</pre></div></div></div><div class=\"sk-serial\"><div class=\"sk-item\"><div class=\"sk-estimator sk-toggleable\"><input class=\"sk-toggleable__control sk-hidden--visually\" id=\"sk-estimator-id-47\" type=\"checkbox\" ><label for=\"sk-estimator-id-47\" class=\"sk-toggleable__label sk-toggleable__label-arrow\">MyTextTransformer</label><div class=\"sk-toggleable__content\"><pre>MyTextTransformer()</pre></div></div></div></div></div></div></div></div><div class=\"sk-item\"><div class=\"sk-estimator sk-toggleable\"><input class=\"sk-toggleable__control sk-hidden--visually\" id=\"sk-estimator-id-48\" type=\"checkbox\" ><label for=\"sk-estimator-id-48\" class=\"sk-toggleable__label sk-toggleable__label-arrow\">MultinomialNB</label><div class=\"sk-toggleable__content\"><pre>MultinomialNB(alpha=0.1)</pre></div></div></div></div></div></div></div>"
      ],
      "text/plain": [
       "Pipeline(steps=[('age', AgeConverter()),\n",
       "                ('transform',\n",
       "                 ColumnTransformer(transformers=[('numeric', MinMaxScaler(),\n",
       "                                                  ['Age', 'Fee']),\n",
       "                                                 ('categorical',\n",
       "                                                  OneHotEncoder(handle_unknown='ignore'),\n",
       "                                                  ['Type', 'Gender', 'Color1',\n",
       "                                                   'Color2', 'Color3',\n",
       "                                                   'MaturitySize', 'FurLength',\n",
       "                                                   'Vaccinated', 'Dewormed',\n",
       "                                                   'Sterilized', 'Health',\n",
       "                                                   'Breed']),\n",
       "                                                 ('image', MyImageTransformer(),\n",
       "                                                  'Images'),\n",
       "                                                 ('text', MyTextTransformer(),\n",
       "                                                  'Description')])),\n",
       "                ('clf', MultinomialNB(alpha=0.1))])"
      ]
     },
     "execution_count": 64,
     "metadata": {},
     "output_type": "execute_result"
    }
   ],
   "source": [
    "naive_bayes_image=MultinomialNB(alpha=0.1)\n",
    "\n",
    "naive_bayes_pipeline=Pipeline(steps=[\n",
    "        \n",
    "        ('age',AgeConverter()), \n",
    "        (\"transform\",ColumnTransformer(transformers=[\n",
    "            ('numeric',MinMaxScaler(feature_range=(0, 1)),num_col),\n",
    "            ('categorical',OneHotEncoder(handle_unknown='ignore'),cat_col),\n",
    "            ('image',MyImageTransformer(),'Images'),\n",
    "            ('text',MyTextTransformer(),'Description')\n",
    "        ])),\n",
    "        ('clf',naive_bayes_image)\n",
    "    ])\n",
    "\n",
    "naive_bayes_pipeline.fit(X_train_new, np.array(y_train_new).ravel())\n"
   ]
  },
  {
   "cell_type": "code",
   "execution_count": 65,
   "metadata": {},
   "outputs": [
    {
     "data": {
      "text/plain": [
       "(  Dataset       MSE      Acc     Kappa\n",
       " 0   Train  1.952155  0.44576  0.518011,\n",
       " <sklearn.metrics._plot.confusion_matrix.ConfusionMatrixDisplay at 0x14bca7650>)"
      ]
     },
     "execution_count": 65,
     "metadata": {},
     "output_type": "execute_result"
    },
    {
     "data": {
      "image/png": "[encoded data removed]",
      "text/plain": [
       "<Figure size 640x480 with 2 Axes>"
      ]
     },
     "metadata": {},
     "output_type": "display_data"
    }
   ],
   "source": [
    "naive_bayes_pred=naive_bayes_pipeline.predict(X_validation)\n",
    "getMetrics(y_val,naive_bayes_pred)"
   ]
  },
  {
   "cell_type": "markdown",
   "metadata": {},
   "source": [
    "# Random forest pipeline with best parameters\n",
    "\n",
    "## Explanation for these parameters:\n",
    "\n",
    "> `n_estimators`: I chose these parameter in order to get the number of tress required for the algorithm to produce the results.This parameter helps us to get more accuracy.\n",
    "\n",
    "> `max_depth` : This paramter ensures that value of leaf nodes keeps growing until we get the pure value,which will help in the voting process for classification.\n"
   ]
  },
  {
   "cell_type": "code",
   "execution_count": 59,
   "metadata": {},
   "outputs": [
    {
     "name": "stderr",
     "output_type": "stream",
     "text": [
      "/Library/Frameworks/Python.framework/Versions/3.11/lib/python3.11/site-packages/sklearn/cluster/_kmeans.py:1412: FutureWarning: The default value of `n_init` will change from 10 to 'auto' in 1.4. Set the value of `n_init` explicitly to suppress the warning\n",
      "  super()._check_params_vs_input(X, default_n_init=10)\n"
     ]
    },
    {
     "data": {
      "text/html": [
       "<style>#sk-container-id-3 {color: black;}#sk-container-id-3 pre{padding: 0;}#sk-container-id-3 div.sk-toggleable {background-color: white;}#sk-container-id-3 label.sk-toggleable__label {cursor: pointer;display: block;width: 100%;margin-bottom: 0;padding: 0.3em;box-sizing: border-box;text-align: center;}#sk-container-id-3 label.sk-toggleable__label-arrow:before {content: \"▸\";float: left;margin-right: 0.25em;color: #696969;}#sk-container-id-3 label.sk-toggleable__label-arrow:hover:before {color: black;}#sk-container-id-3 div.sk-estimator:hover label.sk-toggleable__label-arrow:before {color: black;}#sk-container-id-3 div.sk-toggleable__content {max-height: 0;max-width: 0;overflow: hidden;text-align: left;background-color: #f0f8ff;}#sk-container-id-3 div.sk-toggleable__content pre {margin: 0.2em;color: black;border-radius: 0.25em;background-color: #f0f8ff;}#sk-container-id-3 input.sk-toggleable__control:checked~div.sk-toggleable__content {max-height: 200px;max-width: 100%;overflow: auto;}#sk-container-id-3 input.sk-toggleable__control:checked~label.sk-toggleable__label-arrow:before {content: \"▾\";}#sk-container-id-3 div.sk-estimator input.sk-toggleable__control:checked~label.sk-toggleable__label {background-color: #d4ebff;}#sk-container-id-3 div.sk-label input.sk-toggleable__control:checked~label.sk-toggleable__label {background-color: #d4ebff;}#sk-container-id-3 input.sk-hidden--visually {border: 0;clip: rect(1px 1px 1px 1px);clip: rect(1px, 1px, 1px, 1px);height: 1px;margin: -1px;overflow: hidden;padding: 0;position: absolute;width: 1px;}#sk-container-id-3 div.sk-estimator {font-family: monospace;background-color: #f0f8ff;border: 1px dotted black;border-radius: 0.25em;box-sizing: border-box;margin-bottom: 0.5em;}#sk-container-id-3 div.sk-estimator:hover {background-color: #d4ebff;}#sk-container-id-3 div.sk-parallel-item::after {content: \"\";width: 100%;border-bottom: 1px solid gray;flex-grow: 1;}#sk-container-id-3 div.sk-label:hover label.sk-toggleable__label {background-color: #d4ebff;}#sk-container-id-3 div.sk-serial::before {content: \"\";position: absolute;border-left: 1px solid gray;box-sizing: border-box;top: 0;bottom: 0;left: 50%;z-index: 0;}#sk-container-id-3 div.sk-serial {display: flex;flex-direction: column;align-items: center;background-color: white;padding-right: 0.2em;padding-left: 0.2em;position: relative;}#sk-container-id-3 div.sk-item {position: relative;z-index: 1;}#sk-container-id-3 div.sk-parallel {display: flex;align-items: stretch;justify-content: center;background-color: white;position: relative;}#sk-container-id-3 div.sk-item::before, #sk-container-id-3 div.sk-parallel-item::before {content: \"\";position: absolute;border-left: 1px solid gray;box-sizing: border-box;top: 0;bottom: 0;left: 50%;z-index: -1;}#sk-container-id-3 div.sk-parallel-item {display: flex;flex-direction: column;z-index: 1;position: relative;background-color: white;}#sk-container-id-3 div.sk-parallel-item:first-child::after {align-self: flex-end;width: 50%;}#sk-container-id-3 div.sk-parallel-item:last-child::after {align-self: flex-start;width: 50%;}#sk-container-id-3 div.sk-parallel-item:only-child::after {width: 0;}#sk-container-id-3 div.sk-dashed-wrapped {border: 1px dashed gray;margin: 0 0.4em 0.5em 0.4em;box-sizing: border-box;padding-bottom: 0.4em;background-color: white;}#sk-container-id-3 div.sk-label label {font-family: monospace;font-weight: bold;display: inline-block;line-height: 1.2em;}#sk-container-id-3 div.sk-label-container {text-align: center;}#sk-container-id-3 div.sk-container {/* jupyter's `normalize.less` sets `[hidden] { display: none; }` but bootstrap.min.css set `[hidden] { display: none !important; }` so we also need the `!important` here to be able to override the default hidden behavior on the sphinx rendered scikit-learn.org. See: https://github.com/scikit-learn/scikit-learn/issues/21755 */display: inline-block !important;position: relative;}#sk-container-id-3 div.sk-text-repr-fallback {display: none;}</style><div id=\"sk-container-id-3\" class=\"sk-top-container\"><div class=\"sk-text-repr-fallback\"><pre>Pipeline(steps=[(&#x27;age&#x27;, AgeConverter()),\n",
       "                (&#x27;normalizer&#x27;,\n",
       "                 ColumnTransformer(transformers=[(&#x27;numeric&#x27;, MinMaxScaler(),\n",
       "                                                  [&#x27;Age&#x27;, &#x27;Fee&#x27;]),\n",
       "                                                 (&#x27;categorical&#x27;,\n",
       "                                                  OneHotEncoder(handle_unknown=&#x27;ignore&#x27;),\n",
       "                                                  [&#x27;Type&#x27;, &#x27;Gender&#x27;, &#x27;Color1&#x27;,\n",
       "                                                   &#x27;Color2&#x27;, &#x27;Color3&#x27;,\n",
       "                                                   &#x27;MaturitySize&#x27;, &#x27;FurLength&#x27;,\n",
       "                                                   &#x27;Vaccinated&#x27;, &#x27;Dewormed&#x27;,\n",
       "                                                   &#x27;Sterilized&#x27;, &#x27;Health&#x27;,\n",
       "                                                   &#x27;Breed&#x27;]),\n",
       "                                                 (&#x27;image&#x27;, MyImageTransformer(),\n",
       "                                                  &#x27;Images&#x27;),\n",
       "                                                 (&#x27;text&#x27;, MyTextTransformer(),\n",
       "                                                  &#x27;Description&#x27;)])),\n",
       "                (&#x27;clf&#x27;, RandomForestClassifier(n_estimators=1000))])</pre><b>In a Jupyter environment, please rerun this cell to show the HTML representation or trust the notebook. <br />On GitHub, the HTML representation is unable to render, please try loading this page with nbviewer.org.</b></div><div class=\"sk-container\" hidden><div class=\"sk-item sk-dashed-wrapped\"><div class=\"sk-label-container\"><div class=\"sk-label sk-toggleable\"><input class=\"sk-toggleable__control sk-hidden--visually\" id=\"sk-estimator-id-25\" type=\"checkbox\" ><label for=\"sk-estimator-id-25\" class=\"sk-toggleable__label sk-toggleable__label-arrow\">Pipeline</label><div class=\"sk-toggleable__content\"><pre>Pipeline(steps=[(&#x27;age&#x27;, AgeConverter()),\n",
       "                (&#x27;normalizer&#x27;,\n",
       "                 ColumnTransformer(transformers=[(&#x27;numeric&#x27;, MinMaxScaler(),\n",
       "                                                  [&#x27;Age&#x27;, &#x27;Fee&#x27;]),\n",
       "                                                 (&#x27;categorical&#x27;,\n",
       "                                                  OneHotEncoder(handle_unknown=&#x27;ignore&#x27;),\n",
       "                                                  [&#x27;Type&#x27;, &#x27;Gender&#x27;, &#x27;Color1&#x27;,\n",
       "                                                   &#x27;Color2&#x27;, &#x27;Color3&#x27;,\n",
       "                                                   &#x27;MaturitySize&#x27;, &#x27;FurLength&#x27;,\n",
       "                                                   &#x27;Vaccinated&#x27;, &#x27;Dewormed&#x27;,\n",
       "                                                   &#x27;Sterilized&#x27;, &#x27;Health&#x27;,\n",
       "                                                   &#x27;Breed&#x27;]),\n",
       "                                                 (&#x27;image&#x27;, MyImageTransformer(),\n",
       "                                                  &#x27;Images&#x27;),\n",
       "                                                 (&#x27;text&#x27;, MyTextTransformer(),\n",
       "                                                  &#x27;Description&#x27;)])),\n",
       "                (&#x27;clf&#x27;, RandomForestClassifier(n_estimators=1000))])</pre></div></div></div><div class=\"sk-serial\"><div class=\"sk-item\"><div class=\"sk-estimator sk-toggleable\"><input class=\"sk-toggleable__control sk-hidden--visually\" id=\"sk-estimator-id-26\" type=\"checkbox\" ><label for=\"sk-estimator-id-26\" class=\"sk-toggleable__label sk-toggleable__label-arrow\">AgeConverter</label><div class=\"sk-toggleable__content\"><pre>AgeConverter()</pre></div></div></div><div class=\"sk-item sk-dashed-wrapped\"><div class=\"sk-label-container\"><div class=\"sk-label sk-toggleable\"><input class=\"sk-toggleable__control sk-hidden--visually\" id=\"sk-estimator-id-27\" type=\"checkbox\" ><label for=\"sk-estimator-id-27\" class=\"sk-toggleable__label sk-toggleable__label-arrow\">normalizer: ColumnTransformer</label><div class=\"sk-toggleable__content\"><pre>ColumnTransformer(transformers=[(&#x27;numeric&#x27;, MinMaxScaler(), [&#x27;Age&#x27;, &#x27;Fee&#x27;]),\n",
       "                                (&#x27;categorical&#x27;,\n",
       "                                 OneHotEncoder(handle_unknown=&#x27;ignore&#x27;),\n",
       "                                 [&#x27;Type&#x27;, &#x27;Gender&#x27;, &#x27;Color1&#x27;, &#x27;Color2&#x27;,\n",
       "                                  &#x27;Color3&#x27;, &#x27;MaturitySize&#x27;, &#x27;FurLength&#x27;,\n",
       "                                  &#x27;Vaccinated&#x27;, &#x27;Dewormed&#x27;, &#x27;Sterilized&#x27;,\n",
       "                                  &#x27;Health&#x27;, &#x27;Breed&#x27;]),\n",
       "                                (&#x27;image&#x27;, MyImageTransformer(), &#x27;Images&#x27;),\n",
       "                                (&#x27;text&#x27;, MyTextTransformer(), &#x27;Description&#x27;)])</pre></div></div></div><div class=\"sk-parallel\"><div class=\"sk-parallel-item\"><div class=\"sk-item\"><div class=\"sk-label-container\"><div class=\"sk-label sk-toggleable\"><input class=\"sk-toggleable__control sk-hidden--visually\" id=\"sk-estimator-id-28\" type=\"checkbox\" ><label for=\"sk-estimator-id-28\" class=\"sk-toggleable__label sk-toggleable__label-arrow\">numeric</label><div class=\"sk-toggleable__content\"><pre>[&#x27;Age&#x27;, &#x27;Fee&#x27;]</pre></div></div></div><div class=\"sk-serial\"><div class=\"sk-item\"><div class=\"sk-estimator sk-toggleable\"><input class=\"sk-toggleable__control sk-hidden--visually\" id=\"sk-estimator-id-29\" type=\"checkbox\" ><label for=\"sk-estimator-id-29\" class=\"sk-toggleable__label sk-toggleable__label-arrow\">MinMaxScaler</label><div class=\"sk-toggleable__content\"><pre>MinMaxScaler()</pre></div></div></div></div></div></div><div class=\"sk-parallel-item\"><div class=\"sk-item\"><div class=\"sk-label-container\"><div class=\"sk-label sk-toggleable\"><input class=\"sk-toggleable__control sk-hidden--visually\" id=\"sk-estimator-id-30\" type=\"checkbox\" ><label for=\"sk-estimator-id-30\" class=\"sk-toggleable__label sk-toggleable__label-arrow\">categorical</label><div class=\"sk-toggleable__content\"><pre>[&#x27;Type&#x27;, &#x27;Gender&#x27;, &#x27;Color1&#x27;, &#x27;Color2&#x27;, &#x27;Color3&#x27;, &#x27;MaturitySize&#x27;, &#x27;FurLength&#x27;, &#x27;Vaccinated&#x27;, &#x27;Dewormed&#x27;, &#x27;Sterilized&#x27;, &#x27;Health&#x27;, &#x27;Breed&#x27;]</pre></div></div></div><div class=\"sk-serial\"><div class=\"sk-item\"><div class=\"sk-estimator sk-toggleable\"><input class=\"sk-toggleable__control sk-hidden--visually\" id=\"sk-estimator-id-31\" type=\"checkbox\" ><label for=\"sk-estimator-id-31\" class=\"sk-toggleable__label sk-toggleable__label-arrow\">OneHotEncoder</label><div class=\"sk-toggleable__content\"><pre>OneHotEncoder(handle_unknown=&#x27;ignore&#x27;)</pre></div></div></div></div></div></div><div class=\"sk-parallel-item\"><div class=\"sk-item\"><div class=\"sk-label-container\"><div class=\"sk-label sk-toggleable\"><input class=\"sk-toggleable__control sk-hidden--visually\" id=\"sk-estimator-id-32\" type=\"checkbox\" ><label for=\"sk-estimator-id-32\" class=\"sk-toggleable__label sk-toggleable__label-arrow\">image</label><div class=\"sk-toggleable__content\"><pre>Images</pre></div></div></div><div class=\"sk-serial\"><div class=\"sk-item\"><div class=\"sk-estimator sk-toggleable\"><input class=\"sk-toggleable__control sk-hidden--visually\" id=\"sk-estimator-id-33\" type=\"checkbox\" ><label for=\"sk-estimator-id-33\" class=\"sk-toggleable__label sk-toggleable__label-arrow\">MyImageTransformer</label><div class=\"sk-toggleable__content\"><pre>MyImageTransformer()</pre></div></div></div></div></div></div><div class=\"sk-parallel-item\"><div class=\"sk-item\"><div class=\"sk-label-container\"><div class=\"sk-label sk-toggleable\"><input class=\"sk-toggleable__control sk-hidden--visually\" id=\"sk-estimator-id-34\" type=\"checkbox\" ><label for=\"sk-estimator-id-34\" class=\"sk-toggleable__label sk-toggleable__label-arrow\">text</label><div class=\"sk-toggleable__content\"><pre>Description</pre></div></div></div><div class=\"sk-serial\"><div class=\"sk-item\"><div class=\"sk-estimator sk-toggleable\"><input class=\"sk-toggleable__control sk-hidden--visually\" id=\"sk-estimator-id-35\" type=\"checkbox\" ><label for=\"sk-estimator-id-35\" class=\"sk-toggleable__label sk-toggleable__label-arrow\">MyTextTransformer</label><div class=\"sk-toggleable__content\"><pre>MyTextTransformer()</pre></div></div></div></div></div></div></div></div><div class=\"sk-item\"><div class=\"sk-estimator sk-toggleable\"><input class=\"sk-toggleable__control sk-hidden--visually\" id=\"sk-estimator-id-36\" type=\"checkbox\" ><label for=\"sk-estimator-id-36\" class=\"sk-toggleable__label sk-toggleable__label-arrow\">RandomForestClassifier</label><div class=\"sk-toggleable__content\"><pre>RandomForestClassifier(n_estimators=1000)</pre></div></div></div></div></div></div></div>"
      ],
      "text/plain": [
       "Pipeline(steps=[('age', AgeConverter()),\n",
       "                ('normalizer',\n",
       "                 ColumnTransformer(transformers=[('numeric', MinMaxScaler(),\n",
       "                                                  ['Age', 'Fee']),\n",
       "                                                 ('categorical',\n",
       "                                                  OneHotEncoder(handle_unknown='ignore'),\n",
       "                                                  ['Type', 'Gender', 'Color1',\n",
       "                                                   'Color2', 'Color3',\n",
       "                                                   'MaturitySize', 'FurLength',\n",
       "                                                   'Vaccinated', 'Dewormed',\n",
       "                                                   'Sterilized', 'Health',\n",
       "                                                   'Breed']),\n",
       "                                                 ('image', MyImageTransformer(),\n",
       "                                                  'Images'),\n",
       "                                                 ('text', MyTextTransformer(),\n",
       "                                                  'Description')])),\n",
       "                ('clf', RandomForestClassifier(n_estimators=1000))])"
      ]
     },
     "execution_count": 59,
     "metadata": {},
     "output_type": "execute_result"
    }
   ],
   "source": [
    "random_forest_image=RandomForestClassifier(n_estimators=1000,max_depth=None)\n",
    "\n",
    "random_forest_Pipeline=Pipeline(steps=[\n",
    "        \n",
    "        ('age',AgeConverter()),\n",
    "        (\"normalizer\",ColumnTransformer(transformers=[\n",
    "            ('numeric',MinMaxScaler(feature_range=(0,1)),num_col),\n",
    "            ('categorical',OneHotEncoder(handle_unknown='ignore'),cat_col),\n",
    "            ('image',MyImageTransformer(),'Images'),\n",
    "            ('text',MyTextTransformer(),'Description')\n",
    "        ])),\n",
    "        ('clf',random_forest_image)\n",
    "    ])\n",
    "\n",
    "random_forest_Pipeline.fit(X_train_new, np.array(y_train_new).ravel())\n",
    "\n"
   ]
  },
  {
   "cell_type": "markdown",
   "metadata": {},
   "source": [
    "> prediction on X_validation to get kappa score"
   ]
  },
  {
   "cell_type": "code",
   "execution_count": 60,
   "metadata": {},
   "outputs": [
    {
     "data": {
      "text/plain": [
       "(  Dataset       MSE       Acc     Kappa\n",
       " 0   Train  1.228328  0.552345  0.702539,\n",
       " <sklearn.metrics._plot.confusion_matrix.ConfusionMatrixDisplay at 0x2cb9da790>)"
      ]
     },
     "execution_count": 60,
     "metadata": {},
     "output_type": "execute_result"
    },
    {
     "data": {
      "image/png": "[encoded data removed]",
      "text/plain": [
       "<Figure size 640x480 with 2 Axes>"
      ]
     },
     "metadata": {},
     "output_type": "display_data"
    }
   ],
   "source": [
    "random_forest_pred=random_forest_Pipeline.predict(X_validation)\n",
    "getMetrics(y_val,random_forest_pred)"
   ]
  },
  {
   "cell_type": "code",
   "execution_count": 61,
   "metadata": {},
   "outputs": [],
   "source": [
    "best_rate_rf= random_forest_Pipeline.predict(X_test) # Random Forest Best predicted according to the kappa score\n"
   ]
  },
  {
   "cell_type": "code",
   "execution_count": 66,
   "metadata": {},
   "outputs": [],
   "source": [
    "df_random_forest= pd.DataFrame(best_rate_rf)\n"
   ]
  },
  {
   "cell_type": "code",
   "execution_count": 68,
   "metadata": {},
   "outputs": [],
   "source": [
    "df_random_forest.to_csv('random_forest_prediction_1',index=False)"
   ]
  },
  {
   "cell_type": "markdown",
   "metadata": {},
   "source": [
    "# Boosting with Best Pipeline\n",
    "\n",
    "## Explanation for these parameters:\n",
    "\n",
    "> `subsample`: This paramter helps to define the samples given to the weak learners to create more robust and randomness in the model, ion order prevent overfitting.\n",
    "\n",
    ">`n_estimators`: To get to know number of boosting stages in the model which is important as in the end voting will take place.\n",
    "\n",
    "> `max_depth`: I chose this parameter to get the depth of the individual regressor estimators.\n",
    "\n",
    ">`loss`: to get to know the loss function for the algorithm on which it will converge the best.\n",
    "\n",
    "> `learning_rate`: to define the convergence speed of the algorithm for the loss function."
   ]
  },
  {
   "cell_type": "code",
   "execution_count": 43,
   "metadata": {},
   "outputs": [
    {
     "name": "stderr",
     "output_type": "stream",
     "text": [
      "/Library/Frameworks/Python.framework/Versions/3.11/lib/python3.11/site-packages/sklearn/cluster/_kmeans.py:1412: FutureWarning: The default value of `n_init` will change from 10 to 'auto' in 1.4. Set the value of `n_init` explicitly to suppress the warning\n",
      "  super()._check_params_vs_input(X, default_n_init=10)\n"
     ]
    },
    {
     "data": {
      "text/html": [
       "<style>#sk-container-id-1 {color: black;}#sk-container-id-1 pre{padding: 0;}#sk-container-id-1 div.sk-toggleable {background-color: white;}#sk-container-id-1 label.sk-toggleable__label {cursor: pointer;display: block;width: 100%;margin-bottom: 0;padding: 0.3em;box-sizing: border-box;text-align: center;}#sk-container-id-1 label.sk-toggleable__label-arrow:before {content: \"▸\";float: left;margin-right: 0.25em;color: #696969;}#sk-container-id-1 label.sk-toggleable__label-arrow:hover:before {color: black;}#sk-container-id-1 div.sk-estimator:hover label.sk-toggleable__label-arrow:before {color: black;}#sk-container-id-1 div.sk-toggleable__content {max-height: 0;max-width: 0;overflow: hidden;text-align: left;background-color: #f0f8ff;}#sk-container-id-1 div.sk-toggleable__content pre {margin: 0.2em;color: black;border-radius: 0.25em;background-color: #f0f8ff;}#sk-container-id-1 input.sk-toggleable__control:checked~div.sk-toggleable__content {max-height: 200px;max-width: 100%;overflow: auto;}#sk-container-id-1 input.sk-toggleable__control:checked~label.sk-toggleable__label-arrow:before {content: \"▾\";}#sk-container-id-1 div.sk-estimator input.sk-toggleable__control:checked~label.sk-toggleable__label {background-color: #d4ebff;}#sk-container-id-1 div.sk-label input.sk-toggleable__control:checked~label.sk-toggleable__label {background-color: #d4ebff;}#sk-container-id-1 input.sk-hidden--visually {border: 0;clip: rect(1px 1px 1px 1px);clip: rect(1px, 1px, 1px, 1px);height: 1px;margin: -1px;overflow: hidden;padding: 0;position: absolute;width: 1px;}#sk-container-id-1 div.sk-estimator {font-family: monospace;background-color: #f0f8ff;border: 1px dotted black;border-radius: 0.25em;box-sizing: border-box;margin-bottom: 0.5em;}#sk-container-id-1 div.sk-estimator:hover {background-color: #d4ebff;}#sk-container-id-1 div.sk-parallel-item::after {content: \"\";width: 100%;border-bottom: 1px solid gray;flex-grow: 1;}#sk-container-id-1 div.sk-label:hover label.sk-toggleable__label {background-color: #d4ebff;}#sk-container-id-1 div.sk-serial::before {content: \"\";position: absolute;border-left: 1px solid gray;box-sizing: border-box;top: 0;bottom: 0;left: 50%;z-index: 0;}#sk-container-id-1 div.sk-serial {display: flex;flex-direction: column;align-items: center;background-color: white;padding-right: 0.2em;padding-left: 0.2em;position: relative;}#sk-container-id-1 div.sk-item {position: relative;z-index: 1;}#sk-container-id-1 div.sk-parallel {display: flex;align-items: stretch;justify-content: center;background-color: white;position: relative;}#sk-container-id-1 div.sk-item::before, #sk-container-id-1 div.sk-parallel-item::before {content: \"\";position: absolute;border-left: 1px solid gray;box-sizing: border-box;top: 0;bottom: 0;left: 50%;z-index: -1;}#sk-container-id-1 div.sk-parallel-item {display: flex;flex-direction: column;z-index: 1;position: relative;background-color: white;}#sk-container-id-1 div.sk-parallel-item:first-child::after {align-self: flex-end;width: 50%;}#sk-container-id-1 div.sk-parallel-item:last-child::after {align-self: flex-start;width: 50%;}#sk-container-id-1 div.sk-parallel-item:only-child::after {width: 0;}#sk-container-id-1 div.sk-dashed-wrapped {border: 1px dashed gray;margin: 0 0.4em 0.5em 0.4em;box-sizing: border-box;padding-bottom: 0.4em;background-color: white;}#sk-container-id-1 div.sk-label label {font-family: monospace;font-weight: bold;display: inline-block;line-height: 1.2em;}#sk-container-id-1 div.sk-label-container {text-align: center;}#sk-container-id-1 div.sk-container {/* jupyter's `normalize.less` sets `[hidden] { display: none; }` but bootstrap.min.css set `[hidden] { display: none !important; }` so we also need the `!important` here to be able to override the default hidden behavior on the sphinx rendered scikit-learn.org. See: https://github.com/scikit-learn/scikit-learn/issues/21755 */display: inline-block !important;position: relative;}#sk-container-id-1 div.sk-text-repr-fallback {display: none;}</style><div id=\"sk-container-id-1\" class=\"sk-top-container\"><div class=\"sk-text-repr-fallback\"><pre>Pipeline(steps=[(&#x27;age&#x27;, AgeConverter()),\n",
       "                (&#x27;transform&#x27;,\n",
       "                 ColumnTransformer(transformers=[(&#x27;numeric&#x27;, StandardScaler(),\n",
       "                                                  [&#x27;Age&#x27;, &#x27;Fee&#x27;]),\n",
       "                                                 (&#x27;categorical&#x27;,\n",
       "                                                  OneHotEncoder(handle_unknown=&#x27;ignore&#x27;),\n",
       "                                                  [&#x27;Type&#x27;, &#x27;Gender&#x27;, &#x27;Color1&#x27;,\n",
       "                                                   &#x27;Color2&#x27;, &#x27;Color3&#x27;,\n",
       "                                                   &#x27;MaturitySize&#x27;, &#x27;FurLength&#x27;,\n",
       "                                                   &#x27;Vaccinated&#x27;, &#x27;Dewormed&#x27;,\n",
       "                                                   &#x27;Sterilized&#x27;, &#x27;Health&#x27;,\n",
       "                                                   &#x27;Breed&#x27;]),\n",
       "                                                 (&#x27;image&#x27;, MyImageTransformer(),\n",
       "                                                  &#x27;Images&#x27;),\n",
       "                                                 (&#x27;text&#x27;, MyTextTransformer(),\n",
       "                                                  &#x27;Description&#x27;)])),\n",
       "                (&#x27;clf&#x27;,\n",
       "                 GradientBoostingClassifier(max_depth=7, n_estimators=200,\n",
       "                                            subsample=0.5))])</pre><b>In a Jupyter environment, please rerun this cell to show the HTML representation or trust the notebook. <br />On GitHub, the HTML representation is unable to render, please try loading this page with nbviewer.org.</b></div><div class=\"sk-container\" hidden><div class=\"sk-item sk-dashed-wrapped\"><div class=\"sk-label-container\"><div class=\"sk-label sk-toggleable\"><input class=\"sk-toggleable__control sk-hidden--visually\" id=\"sk-estimator-id-1\" type=\"checkbox\" ><label for=\"sk-estimator-id-1\" class=\"sk-toggleable__label sk-toggleable__label-arrow\">Pipeline</label><div class=\"sk-toggleable__content\"><pre>Pipeline(steps=[(&#x27;age&#x27;, AgeConverter()),\n",
       "                (&#x27;transform&#x27;,\n",
       "                 ColumnTransformer(transformers=[(&#x27;numeric&#x27;, StandardScaler(),\n",
       "                                                  [&#x27;Age&#x27;, &#x27;Fee&#x27;]),\n",
       "                                                 (&#x27;categorical&#x27;,\n",
       "                                                  OneHotEncoder(handle_unknown=&#x27;ignore&#x27;),\n",
       "                                                  [&#x27;Type&#x27;, &#x27;Gender&#x27;, &#x27;Color1&#x27;,\n",
       "                                                   &#x27;Color2&#x27;, &#x27;Color3&#x27;,\n",
       "                                                   &#x27;MaturitySize&#x27;, &#x27;FurLength&#x27;,\n",
       "                                                   &#x27;Vaccinated&#x27;, &#x27;Dewormed&#x27;,\n",
       "                                                   &#x27;Sterilized&#x27;, &#x27;Health&#x27;,\n",
       "                                                   &#x27;Breed&#x27;]),\n",
       "                                                 (&#x27;image&#x27;, MyImageTransformer(),\n",
       "                                                  &#x27;Images&#x27;),\n",
       "                                                 (&#x27;text&#x27;, MyTextTransformer(),\n",
       "                                                  &#x27;Description&#x27;)])),\n",
       "                (&#x27;clf&#x27;,\n",
       "                 GradientBoostingClassifier(max_depth=7, n_estimators=200,\n",
       "                                            subsample=0.5))])</pre></div></div></div><div class=\"sk-serial\"><div class=\"sk-item\"><div class=\"sk-estimator sk-toggleable\"><input class=\"sk-toggleable__control sk-hidden--visually\" id=\"sk-estimator-id-2\" type=\"checkbox\" ><label for=\"sk-estimator-id-2\" class=\"sk-toggleable__label sk-toggleable__label-arrow\">AgeConverter</label><div class=\"sk-toggleable__content\"><pre>AgeConverter()</pre></div></div></div><div class=\"sk-item sk-dashed-wrapped\"><div class=\"sk-label-container\"><div class=\"sk-label sk-toggleable\"><input class=\"sk-toggleable__control sk-hidden--visually\" id=\"sk-estimator-id-3\" type=\"checkbox\" ><label for=\"sk-estimator-id-3\" class=\"sk-toggleable__label sk-toggleable__label-arrow\">transform: ColumnTransformer</label><div class=\"sk-toggleable__content\"><pre>ColumnTransformer(transformers=[(&#x27;numeric&#x27;, StandardScaler(), [&#x27;Age&#x27;, &#x27;Fee&#x27;]),\n",
       "                                (&#x27;categorical&#x27;,\n",
       "                                 OneHotEncoder(handle_unknown=&#x27;ignore&#x27;),\n",
       "                                 [&#x27;Type&#x27;, &#x27;Gender&#x27;, &#x27;Color1&#x27;, &#x27;Color2&#x27;,\n",
       "                                  &#x27;Color3&#x27;, &#x27;MaturitySize&#x27;, &#x27;FurLength&#x27;,\n",
       "                                  &#x27;Vaccinated&#x27;, &#x27;Dewormed&#x27;, &#x27;Sterilized&#x27;,\n",
       "                                  &#x27;Health&#x27;, &#x27;Breed&#x27;]),\n",
       "                                (&#x27;image&#x27;, MyImageTransformer(), &#x27;Images&#x27;),\n",
       "                                (&#x27;text&#x27;, MyTextTransformer(), &#x27;Description&#x27;)])</pre></div></div></div><div class=\"sk-parallel\"><div class=\"sk-parallel-item\"><div class=\"sk-item\"><div class=\"sk-label-container\"><div class=\"sk-label sk-toggleable\"><input class=\"sk-toggleable__control sk-hidden--visually\" id=\"sk-estimator-id-4\" type=\"checkbox\" ><label for=\"sk-estimator-id-4\" class=\"sk-toggleable__label sk-toggleable__label-arrow\">numeric</label><div class=\"sk-toggleable__content\"><pre>[&#x27;Age&#x27;, &#x27;Fee&#x27;]</pre></div></div></div><div class=\"sk-serial\"><div class=\"sk-item\"><div class=\"sk-estimator sk-toggleable\"><input class=\"sk-toggleable__control sk-hidden--visually\" id=\"sk-estimator-id-5\" type=\"checkbox\" ><label for=\"sk-estimator-id-5\" class=\"sk-toggleable__label sk-toggleable__label-arrow\">StandardScaler</label><div class=\"sk-toggleable__content\"><pre>StandardScaler()</pre></div></div></div></div></div></div><div class=\"sk-parallel-item\"><div class=\"sk-item\"><div class=\"sk-label-container\"><div class=\"sk-label sk-toggleable\"><input class=\"sk-toggleable__control sk-hidden--visually\" id=\"sk-estimator-id-6\" type=\"checkbox\" ><label for=\"sk-estimator-id-6\" class=\"sk-toggleable__label sk-toggleable__label-arrow\">categorical</label><div class=\"sk-toggleable__content\"><pre>[&#x27;Type&#x27;, &#x27;Gender&#x27;, &#x27;Color1&#x27;, &#x27;Color2&#x27;, &#x27;Color3&#x27;, &#x27;MaturitySize&#x27;, &#x27;FurLength&#x27;, &#x27;Vaccinated&#x27;, &#x27;Dewormed&#x27;, &#x27;Sterilized&#x27;, &#x27;Health&#x27;, &#x27;Breed&#x27;]</pre></div></div></div><div class=\"sk-serial\"><div class=\"sk-item\"><div class=\"sk-estimator sk-toggleable\"><input class=\"sk-toggleable__control sk-hidden--visually\" id=\"sk-estimator-id-7\" type=\"checkbox\" ><label for=\"sk-estimator-id-7\" class=\"sk-toggleable__label sk-toggleable__label-arrow\">OneHotEncoder</label><div class=\"sk-toggleable__content\"><pre>OneHotEncoder(handle_unknown=&#x27;ignore&#x27;)</pre></div></div></div></div></div></div><div class=\"sk-parallel-item\"><div class=\"sk-item\"><div class=\"sk-label-container\"><div class=\"sk-label sk-toggleable\"><input class=\"sk-toggleable__control sk-hidden--visually\" id=\"sk-estimator-id-8\" type=\"checkbox\" ><label for=\"sk-estimator-id-8\" class=\"sk-toggleable__label sk-toggleable__label-arrow\">image</label><div class=\"sk-toggleable__content\"><pre>Images</pre></div></div></div><div class=\"sk-serial\"><div class=\"sk-item\"><div class=\"sk-estimator sk-toggleable\"><input class=\"sk-toggleable__control sk-hidden--visually\" id=\"sk-estimator-id-9\" type=\"checkbox\" ><label for=\"sk-estimator-id-9\" class=\"sk-toggleable__label sk-toggleable__label-arrow\">MyImageTransformer</label><div class=\"sk-toggleable__content\"><pre>MyImageTransformer()</pre></div></div></div></div></div></div><div class=\"sk-parallel-item\"><div class=\"sk-item\"><div class=\"sk-label-container\"><div class=\"sk-label sk-toggleable\"><input class=\"sk-toggleable__control sk-hidden--visually\" id=\"sk-estimator-id-10\" type=\"checkbox\" ><label for=\"sk-estimator-id-10\" class=\"sk-toggleable__label sk-toggleable__label-arrow\">text</label><div class=\"sk-toggleable__content\"><pre>Description</pre></div></div></div><div class=\"sk-serial\"><div class=\"sk-item\"><div class=\"sk-estimator sk-toggleable\"><input class=\"sk-toggleable__control sk-hidden--visually\" id=\"sk-estimator-id-11\" type=\"checkbox\" ><label for=\"sk-estimator-id-11\" class=\"sk-toggleable__label sk-toggleable__label-arrow\">MyTextTransformer</label><div class=\"sk-toggleable__content\"><pre>MyTextTransformer()</pre></div></div></div></div></div></div></div></div><div class=\"sk-item\"><div class=\"sk-estimator sk-toggleable\"><input class=\"sk-toggleable__control sk-hidden--visually\" id=\"sk-estimator-id-12\" type=\"checkbox\" ><label for=\"sk-estimator-id-12\" class=\"sk-toggleable__label sk-toggleable__label-arrow\">GradientBoostingClassifier</label><div class=\"sk-toggleable__content\"><pre>GradientBoostingClassifier(max_depth=7, n_estimators=200, subsample=0.5)</pre></div></div></div></div></div></div></div>"
      ],
      "text/plain": [
       "Pipeline(steps=[('age', AgeConverter()),\n",
       "                ('transform',\n",
       "                 ColumnTransformer(transformers=[('numeric', StandardScaler(),\n",
       "                                                  ['Age', 'Fee']),\n",
       "                                                 ('categorical',\n",
       "                                                  OneHotEncoder(handle_unknown='ignore'),\n",
       "                                                  ['Type', 'Gender', 'Color1',\n",
       "                                                   'Color2', 'Color3',\n",
       "                                                   'MaturitySize', 'FurLength',\n",
       "                                                   'Vaccinated', 'Dewormed',\n",
       "                                                   'Sterilized', 'Health',\n",
       "                                                   'Breed']),\n",
       "                                                 ('image', MyImageTransformer(),\n",
       "                                                  'Images'),\n",
       "                                                 ('text', MyTextTransformer(),\n",
       "                                                  'Description')])),\n",
       "                ('clf',\n",
       "                 GradientBoostingClassifier(max_depth=7, n_estimators=200,\n",
       "                                            subsample=0.5))])"
      ]
     },
     "execution_count": 43,
     "metadata": {},
     "output_type": "execute_result"
    }
   ],
   "source": [
    "Boosting_Pipeline = Pipeline(steps=[\n",
    "    ('age', AgeConverter()), \n",
    "    (\"transform\", ColumnTransformer(transformers=[\n",
    "        ('numeric', StandardScaler(), num_col), \n",
    "        ('categorical', OneHotEncoder(handle_unknown='ignore'), cat_col),\n",
    "        ('image', MyImageTransformer(), 'Images'),\n",
    "        ('text', MyTextTransformer(), 'Description')\n",
    "    ])),\n",
    "    ('clf', GradientBoostingClassifier(\n",
    "        subsample=0.5, \n",
    "        n_estimators=200, \n",
    "        max_depth=7, \n",
    "        loss='log_loss',  \n",
    "        learning_rate=0.1\n",
    "    ))  \n",
    "])\n",
    "Boosting_Pipeline.fit(X_train_new, np.array(y_train_new).ravel()) "
   ]
  },
  {
   "cell_type": "code",
   "execution_count": 47,
   "metadata": {},
   "outputs": [
    {
     "data": {
      "text/plain": [
       "(  Dataset       MSE      Acc     Kappa\n",
       " 0   Train  1.300332  0.52108  0.669548,\n",
       " <sklearn.metrics._plot.confusion_matrix.ConfusionMatrixDisplay at 0x29f5ea750>)"
      ]
     },
     "execution_count": 47,
     "metadata": {},
     "output_type": "execute_result"
    },
    {
     "data": {
      "image/png": "[encoded data removed]",
      "text/plain": [
       "<Figure size 640x480 with 2 Axes>"
      ]
     },
     "metadata": {},
     "output_type": "display_data"
    }
   ],
   "source": [
    "Boosting_pred=Boosting_Pipeline.predict(X_validation)\n",
    "getMetrics(y_val,Boosting_pred)"
   ]
  },
  {
   "cell_type": "code",
   "execution_count": 44,
   "metadata": {},
   "outputs": [],
   "source": [
    "best_rate_boosting= Boosting_Pipeline.predict(X_test)"
   ]
  },
  {
   "cell_type": "code",
   "execution_count": 45,
   "metadata": {},
   "outputs": [
    {
     "data": {
      "text/html": [
       "<div>\n",
       "<style scoped>\n",
       "    .dataframe tbody tr th:only-of-type {\n",
       "        vertical-align: middle;\n",
       "    }\n",
       "\n",
       "    .dataframe tbody tr th {\n",
       "        vertical-align: top;\n",
       "    }\n",
       "\n",
       "    .dataframe thead th {\n",
       "        text-align: right;\n",
       "    }\n",
       "</style>\n",
       "<table border=\"1\" class=\"dataframe\">\n",
       "  <thead>\n",
       "    <tr style=\"text-align: right;\">\n",
       "      <th></th>\n",
       "      <th>0</th>\n",
       "    </tr>\n",
       "  </thead>\n",
       "  <tbody>\n",
       "    <tr>\n",
       "      <th>0</th>\n",
       "      <td>2.0</td>\n",
       "    </tr>\n",
       "    <tr>\n",
       "      <th>1</th>\n",
       "      <td>4.0</td>\n",
       "    </tr>\n",
       "    <tr>\n",
       "      <th>2</th>\n",
       "      <td>2.0</td>\n",
       "    </tr>\n",
       "    <tr>\n",
       "      <th>3</th>\n",
       "      <td>2.0</td>\n",
       "    </tr>\n",
       "    <tr>\n",
       "      <th>4</th>\n",
       "      <td>2.0</td>\n",
       "    </tr>\n",
       "    <tr>\n",
       "      <th>...</th>\n",
       "      <td>...</td>\n",
       "    </tr>\n",
       "    <tr>\n",
       "      <th>495</th>\n",
       "      <td>4.0</td>\n",
       "    </tr>\n",
       "    <tr>\n",
       "      <th>496</th>\n",
       "      <td>1.0</td>\n",
       "    </tr>\n",
       "    <tr>\n",
       "      <th>497</th>\n",
       "      <td>4.0</td>\n",
       "    </tr>\n",
       "    <tr>\n",
       "      <th>498</th>\n",
       "      <td>4.0</td>\n",
       "    </tr>\n",
       "    <tr>\n",
       "      <th>499</th>\n",
       "      <td>2.0</td>\n",
       "    </tr>\n",
       "  </tbody>\n",
       "</table>\n",
       "<p>500 rows × 1 columns</p>\n",
       "</div>"
      ],
      "text/plain": [
       "       0\n",
       "0    2.0\n",
       "1    4.0\n",
       "2    2.0\n",
       "3    2.0\n",
       "4    2.0\n",
       "..   ...\n",
       "495  4.0\n",
       "496  1.0\n",
       "497  4.0\n",
       "498  4.0\n",
       "499  2.0\n",
       "\n",
       "[500 rows x 1 columns]"
      ]
     },
     "execution_count": 45,
     "metadata": {},
     "output_type": "execute_result"
    }
   ],
   "source": [
    "boosting_df= pd.DataFrame(best_rate_boosting)\n",
    "\n",
    "boosting_df"
   ]
  },
  {
   "cell_type": "code",
   "execution_count": 46,
   "metadata": {},
   "outputs": [],
   "source": [
    "boosting_df.to_csv('boosting_predictions',index=False)"
   ]
  },
  {
   "cell_type": "markdown",
   "metadata": {},
   "source": [
    "# Deep Learning part"
   ]
  },
  {
   "cell_type": "code",
   "execution_count": 38,
   "metadata": {},
   "outputs": [],
   "source": [
    "num_col = ['Age', 'Fee']\n",
    "cat_col = ['Type', 'Gender', 'Color1', 'Color2', 'Color3', 'MaturitySize', 'FurLength', 'Vaccinated', 'Dewormed', 'Sterilized', 'Health', 'Breed']\n",
    "text_cols = ['Description'] \n",
    "img_cols=['Images']"
   ]
  },
  {
   "cell_type": "code",
   "execution_count": 39,
   "metadata": {},
   "outputs": [],
   "source": [
    "from sklearn.model_selection import train_test_split\n",
    "X_train_deep, X_val_deep, y_train_deep, y_val_deep = train_test_split(X_train, y_train, test_size=0.2, random_state=42)"
   ]
  },
  {
   "cell_type": "code",
   "execution_count": 40,
   "metadata": {},
   "outputs": [
    {
     "name": "stderr",
     "output_type": "stream",
     "text": [
      "/Library/Frameworks/Python.framework/Versions/3.11/lib/python3.11/site-packages/sklearn/cluster/_kmeans.py:1412: FutureWarning: The default value of `n_init` will change from 10 to 'auto' in 1.4. Set the value of `n_init` explicitly to suppress the warning\n",
      "  super()._check_params_vs_input(X, default_n_init=10)\n"
     ]
    },
    {
     "data": {
      "text/html": [
       "<style>#sk-container-id-1 {color: black;}#sk-container-id-1 pre{padding: 0;}#sk-container-id-1 div.sk-toggleable {background-color: white;}#sk-container-id-1 label.sk-toggleable__label {cursor: pointer;display: block;width: 100%;margin-bottom: 0;padding: 0.3em;box-sizing: border-box;text-align: center;}#sk-container-id-1 label.sk-toggleable__label-arrow:before {content: \"▸\";float: left;margin-right: 0.25em;color: #696969;}#sk-container-id-1 label.sk-toggleable__label-arrow:hover:before {color: black;}#sk-container-id-1 div.sk-estimator:hover label.sk-toggleable__label-arrow:before {color: black;}#sk-container-id-1 div.sk-toggleable__content {max-height: 0;max-width: 0;overflow: hidden;text-align: left;background-color: #f0f8ff;}#sk-container-id-1 div.sk-toggleable__content pre {margin: 0.2em;color: black;border-radius: 0.25em;background-color: #f0f8ff;}#sk-container-id-1 input.sk-toggleable__control:checked~div.sk-toggleable__content {max-height: 200px;max-width: 100%;overflow: auto;}#sk-container-id-1 input.sk-toggleable__control:checked~label.sk-toggleable__label-arrow:before {content: \"▾\";}#sk-container-id-1 div.sk-estimator input.sk-toggleable__control:checked~label.sk-toggleable__label {background-color: #d4ebff;}#sk-container-id-1 div.sk-label input.sk-toggleable__control:checked~label.sk-toggleable__label {background-color: #d4ebff;}#sk-container-id-1 input.sk-hidden--visually {border: 0;clip: rect(1px 1px 1px 1px);clip: rect(1px, 1px, 1px, 1px);height: 1px;margin: -1px;overflow: hidden;padding: 0;position: absolute;width: 1px;}#sk-container-id-1 div.sk-estimator {font-family: monospace;background-color: #f0f8ff;border: 1px dotted black;border-radius: 0.25em;box-sizing: border-box;margin-bottom: 0.5em;}#sk-container-id-1 div.sk-estimator:hover {background-color: #d4ebff;}#sk-container-id-1 div.sk-parallel-item::after {content: \"\";width: 100%;border-bottom: 1px solid gray;flex-grow: 1;}#sk-container-id-1 div.sk-label:hover label.sk-toggleable__label {background-color: #d4ebff;}#sk-container-id-1 div.sk-serial::before {content: \"\";position: absolute;border-left: 1px solid gray;box-sizing: border-box;top: 0;bottom: 0;left: 50%;z-index: 0;}#sk-container-id-1 div.sk-serial {display: flex;flex-direction: column;align-items: center;background-color: white;padding-right: 0.2em;padding-left: 0.2em;position: relative;}#sk-container-id-1 div.sk-item {position: relative;z-index: 1;}#sk-container-id-1 div.sk-parallel {display: flex;align-items: stretch;justify-content: center;background-color: white;position: relative;}#sk-container-id-1 div.sk-item::before, #sk-container-id-1 div.sk-parallel-item::before {content: \"\";position: absolute;border-left: 1px solid gray;box-sizing: border-box;top: 0;bottom: 0;left: 50%;z-index: -1;}#sk-container-id-1 div.sk-parallel-item {display: flex;flex-direction: column;z-index: 1;position: relative;background-color: white;}#sk-container-id-1 div.sk-parallel-item:first-child::after {align-self: flex-end;width: 50%;}#sk-container-id-1 div.sk-parallel-item:last-child::after {align-self: flex-start;width: 50%;}#sk-container-id-1 div.sk-parallel-item:only-child::after {width: 0;}#sk-container-id-1 div.sk-dashed-wrapped {border: 1px dashed gray;margin: 0 0.4em 0.5em 0.4em;box-sizing: border-box;padding-bottom: 0.4em;background-color: white;}#sk-container-id-1 div.sk-label label {font-family: monospace;font-weight: bold;display: inline-block;line-height: 1.2em;}#sk-container-id-1 div.sk-label-container {text-align: center;}#sk-container-id-1 div.sk-container {/* jupyter's `normalize.less` sets `[hidden] { display: none; }` but bootstrap.min.css set `[hidden] { display: none !important; }` so we also need the `!important` here to be able to override the default hidden behavior on the sphinx rendered scikit-learn.org. See: https://github.com/scikit-learn/scikit-learn/issues/21755 */display: inline-block !important;position: relative;}#sk-container-id-1 div.sk-text-repr-fallback {display: none;}</style><div id=\"sk-container-id-1\" class=\"sk-top-container\"><div class=\"sk-text-repr-fallback\"><pre>Pipeline(steps=[(&#x27;age&#x27;, AgeConverter()),\n",
       "                (&#x27;transform&#x27;,\n",
       "                 ColumnTransformer(transformers=[(&#x27;numeric&#x27;, StandardScaler(),\n",
       "                                                  [&#x27;Age&#x27;, &#x27;Fee&#x27;]),\n",
       "                                                 (&#x27;categorical&#x27;,\n",
       "                                                  OneHotEncoder(handle_unknown=&#x27;ignore&#x27;),\n",
       "                                                  [&#x27;Type&#x27;, &#x27;Gender&#x27;, &#x27;Color1&#x27;,\n",
       "                                                   &#x27;Color2&#x27;, &#x27;Color3&#x27;,\n",
       "                                                   &#x27;MaturitySize&#x27;, &#x27;FurLength&#x27;,\n",
       "                                                   &#x27;Vaccinated&#x27;, &#x27;Dewormed&#x27;,\n",
       "                                                   &#x27;Sterilized&#x27;, &#x27;Health&#x27;,\n",
       "                                                   &#x27;Breed&#x27;]),\n",
       "                                                 (&#x27;image&#x27;, MyImageTransformer(),\n",
       "                                                  &#x27;Images&#x27;),\n",
       "                                                 (&#x27;text&#x27;, MyTextTransformer(),\n",
       "                                                  &#x27;Description&#x27;)]))])</pre><b>In a Jupyter environment, please rerun this cell to show the HTML representation or trust the notebook. <br />On GitHub, the HTML representation is unable to render, please try loading this page with nbviewer.org.</b></div><div class=\"sk-container\" hidden><div class=\"sk-item sk-dashed-wrapped\"><div class=\"sk-label-container\"><div class=\"sk-label sk-toggleable\"><input class=\"sk-toggleable__control sk-hidden--visually\" id=\"sk-estimator-id-1\" type=\"checkbox\" ><label for=\"sk-estimator-id-1\" class=\"sk-toggleable__label sk-toggleable__label-arrow\">Pipeline</label><div class=\"sk-toggleable__content\"><pre>Pipeline(steps=[(&#x27;age&#x27;, AgeConverter()),\n",
       "                (&#x27;transform&#x27;,\n",
       "                 ColumnTransformer(transformers=[(&#x27;numeric&#x27;, StandardScaler(),\n",
       "                                                  [&#x27;Age&#x27;, &#x27;Fee&#x27;]),\n",
       "                                                 (&#x27;categorical&#x27;,\n",
       "                                                  OneHotEncoder(handle_unknown=&#x27;ignore&#x27;),\n",
       "                                                  [&#x27;Type&#x27;, &#x27;Gender&#x27;, &#x27;Color1&#x27;,\n",
       "                                                   &#x27;Color2&#x27;, &#x27;Color3&#x27;,\n",
       "                                                   &#x27;MaturitySize&#x27;, &#x27;FurLength&#x27;,\n",
       "                                                   &#x27;Vaccinated&#x27;, &#x27;Dewormed&#x27;,\n",
       "                                                   &#x27;Sterilized&#x27;, &#x27;Health&#x27;,\n",
       "                                                   &#x27;Breed&#x27;]),\n",
       "                                                 (&#x27;image&#x27;, MyImageTransformer(),\n",
       "                                                  &#x27;Images&#x27;),\n",
       "                                                 (&#x27;text&#x27;, MyTextTransformer(),\n",
       "                                                  &#x27;Description&#x27;)]))])</pre></div></div></div><div class=\"sk-serial\"><div class=\"sk-item\"><div class=\"sk-estimator sk-toggleable\"><input class=\"sk-toggleable__control sk-hidden--visually\" id=\"sk-estimator-id-2\" type=\"checkbox\" ><label for=\"sk-estimator-id-2\" class=\"sk-toggleable__label sk-toggleable__label-arrow\">AgeConverter</label><div class=\"sk-toggleable__content\"><pre>AgeConverter()</pre></div></div></div><div class=\"sk-item sk-dashed-wrapped\"><div class=\"sk-label-container\"><div class=\"sk-label sk-toggleable\"><input class=\"sk-toggleable__control sk-hidden--visually\" id=\"sk-estimator-id-3\" type=\"checkbox\" ><label for=\"sk-estimator-id-3\" class=\"sk-toggleable__label sk-toggleable__label-arrow\">transform: ColumnTransformer</label><div class=\"sk-toggleable__content\"><pre>ColumnTransformer(transformers=[(&#x27;numeric&#x27;, StandardScaler(), [&#x27;Age&#x27;, &#x27;Fee&#x27;]),\n",
       "                                (&#x27;categorical&#x27;,\n",
       "                                 OneHotEncoder(handle_unknown=&#x27;ignore&#x27;),\n",
       "                                 [&#x27;Type&#x27;, &#x27;Gender&#x27;, &#x27;Color1&#x27;, &#x27;Color2&#x27;,\n",
       "                                  &#x27;Color3&#x27;, &#x27;MaturitySize&#x27;, &#x27;FurLength&#x27;,\n",
       "                                  &#x27;Vaccinated&#x27;, &#x27;Dewormed&#x27;, &#x27;Sterilized&#x27;,\n",
       "                                  &#x27;Health&#x27;, &#x27;Breed&#x27;]),\n",
       "                                (&#x27;image&#x27;, MyImageTransformer(), &#x27;Images&#x27;),\n",
       "                                (&#x27;text&#x27;, MyTextTransformer(), &#x27;Description&#x27;)])</pre></div></div></div><div class=\"sk-parallel\"><div class=\"sk-parallel-item\"><div class=\"sk-item\"><div class=\"sk-label-container\"><div class=\"sk-label sk-toggleable\"><input class=\"sk-toggleable__control sk-hidden--visually\" id=\"sk-estimator-id-4\" type=\"checkbox\" ><label for=\"sk-estimator-id-4\" class=\"sk-toggleable__label sk-toggleable__label-arrow\">numeric</label><div class=\"sk-toggleable__content\"><pre>[&#x27;Age&#x27;, &#x27;Fee&#x27;]</pre></div></div></div><div class=\"sk-serial\"><div class=\"sk-item\"><div class=\"sk-estimator sk-toggleable\"><input class=\"sk-toggleable__control sk-hidden--visually\" id=\"sk-estimator-id-5\" type=\"checkbox\" ><label for=\"sk-estimator-id-5\" class=\"sk-toggleable__label sk-toggleable__label-arrow\">StandardScaler</label><div class=\"sk-toggleable__content\"><pre>StandardScaler()</pre></div></div></div></div></div></div><div class=\"sk-parallel-item\"><div class=\"sk-item\"><div class=\"sk-label-container\"><div class=\"sk-label sk-toggleable\"><input class=\"sk-toggleable__control sk-hidden--visually\" id=\"sk-estimator-id-6\" type=\"checkbox\" ><label for=\"sk-estimator-id-6\" class=\"sk-toggleable__label sk-toggleable__label-arrow\">categorical</label><div class=\"sk-toggleable__content\"><pre>[&#x27;Type&#x27;, &#x27;Gender&#x27;, &#x27;Color1&#x27;, &#x27;Color2&#x27;, &#x27;Color3&#x27;, &#x27;MaturitySize&#x27;, &#x27;FurLength&#x27;, &#x27;Vaccinated&#x27;, &#x27;Dewormed&#x27;, &#x27;Sterilized&#x27;, &#x27;Health&#x27;, &#x27;Breed&#x27;]</pre></div></div></div><div class=\"sk-serial\"><div class=\"sk-item\"><div class=\"sk-estimator sk-toggleable\"><input class=\"sk-toggleable__control sk-hidden--visually\" id=\"sk-estimator-id-7\" type=\"checkbox\" ><label for=\"sk-estimator-id-7\" class=\"sk-toggleable__label sk-toggleable__label-arrow\">OneHotEncoder</label><div class=\"sk-toggleable__content\"><pre>OneHotEncoder(handle_unknown=&#x27;ignore&#x27;)</pre></div></div></div></div></div></div><div class=\"sk-parallel-item\"><div class=\"sk-item\"><div class=\"sk-label-container\"><div class=\"sk-label sk-toggleable\"><input class=\"sk-toggleable__control sk-hidden--visually\" id=\"sk-estimator-id-8\" type=\"checkbox\" ><label for=\"sk-estimator-id-8\" class=\"sk-toggleable__label sk-toggleable__label-arrow\">image</label><div class=\"sk-toggleable__content\"><pre>Images</pre></div></div></div><div class=\"sk-serial\"><div class=\"sk-item\"><div class=\"sk-estimator sk-toggleable\"><input class=\"sk-toggleable__control sk-hidden--visually\" id=\"sk-estimator-id-9\" type=\"checkbox\" ><label for=\"sk-estimator-id-9\" class=\"sk-toggleable__label sk-toggleable__label-arrow\">MyImageTransformer</label><div class=\"sk-toggleable__content\"><pre>MyImageTransformer()</pre></div></div></div></div></div></div><div class=\"sk-parallel-item\"><div class=\"sk-item\"><div class=\"sk-label-container\"><div class=\"sk-label sk-toggleable\"><input class=\"sk-toggleable__control sk-hidden--visually\" id=\"sk-estimator-id-10\" type=\"checkbox\" ><label for=\"sk-estimator-id-10\" class=\"sk-toggleable__label sk-toggleable__label-arrow\">text</label><div class=\"sk-toggleable__content\"><pre>Description</pre></div></div></div><div class=\"sk-serial\"><div class=\"sk-item\"><div class=\"sk-estimator sk-toggleable\"><input class=\"sk-toggleable__control sk-hidden--visually\" id=\"sk-estimator-id-11\" type=\"checkbox\" ><label for=\"sk-estimator-id-11\" class=\"sk-toggleable__label sk-toggleable__label-arrow\">MyTextTransformer</label><div class=\"sk-toggleable__content\"><pre>MyTextTransformer()</pre></div></div></div></div></div></div></div></div></div></div></div></div>"
      ],
      "text/plain": [
       "Pipeline(steps=[('age', AgeConverter()),\n",
       "                ('transform',\n",
       "                 ColumnTransformer(transformers=[('numeric', StandardScaler(),\n",
       "                                                  ['Age', 'Fee']),\n",
       "                                                 ('categorical',\n",
       "                                                  OneHotEncoder(handle_unknown='ignore'),\n",
       "                                                  ['Type', 'Gender', 'Color1',\n",
       "                                                   'Color2', 'Color3',\n",
       "                                                   'MaturitySize', 'FurLength',\n",
       "                                                   'Vaccinated', 'Dewormed',\n",
       "                                                   'Sterilized', 'Health',\n",
       "                                                   'Breed']),\n",
       "                                                 ('image', MyImageTransformer(),\n",
       "                                                  'Images'),\n",
       "                                                 ('text', MyTextTransformer(),\n",
       "                                                  'Description')]))])"
      ]
     },
     "execution_count": 40,
     "metadata": {},
     "output_type": "execute_result"
    }
   ],
   "source": [
    "Dl_Pipeline=Pipeline(steps=[\n",
    "        \n",
    "        ('age',AgeConverter()), \n",
    "        (\"transform\",ColumnTransformer(transformers=[\n",
    "            ('numeric',StandardScaler(),num_col),\n",
    "            ('categorical',OneHotEncoder(handle_unknown='ignore'),cat_col),\n",
    "            ('image',MyImageTransformer(),'Images'),\n",
    "            ('text',MyTextTransformer(),'Description')\n",
    "        ])),\n",
    "\n",
    "    ])\n",
    "\n",
    "Dl_Pipeline.fit(X_train_deep) "
   ]
  },
  {
   "cell_type": "code",
   "execution_count": 41,
   "metadata": {},
   "outputs": [],
   "source": [
    "import tensorflow as tf\n",
    "from tensorflow.keras.models import Sequential\n",
    "from tensorflow.keras.layers import Dense, Dropout, Input\n",
    "from sklearn.model_selection import train_test_split\n",
    "from tensorflow.keras.utils import to_categorical\n",
    "\n",
    "y_train_deep = to_categorical(y_train_deep, num_classes=5)  \n",
    "y_val_deep = to_categorical(y_val_deep, num_classes=5)\n",
    "\n",
    "X_train_transformed = Dl_Pipeline.transform(X_train_deep)\n",
    "X_val_transformed = Dl_Pipeline.transform(X_val_deep)"
   ]
  },
  {
   "cell_type": "markdown",
   "metadata": {},
   "source": [
    "# MLP \n",
    "\n",
    "> I used MLP here as by the pipeline my data is already in the numerical form so, according to me CNN or any other approach is not neccessary.\n",
    "\n",
    "> for penalizing I used L2 regularization.\n",
    "\n",
    "> Added dropout as well to avoid overfitting.\n",
    "\n",
    "> Activation function is ReLU"
   ]
  },
  {
   "cell_type": "code",
   "execution_count": 42,
   "metadata": {},
   "outputs": [],
   "source": [
    "from tensorflow.keras.models import Sequential\n",
    "from tensorflow.keras.layers import Dense, Dropout, Input\n",
    "from tensorflow.keras.regularizers import l2,l1\n",
    "from tensorflow.keras.callbacks import EarlyStopping\n",
    "\n",
    "\n",
    "\n",
    "input_shape = X_train_transformed.shape[1]\n",
    "\n",
    "model = Sequential([\n",
    "    Input(shape=(input_shape,)),\n",
    "    # I tried L1 regularization as well but kappa score was really low.\n",
    "    # I even changed l2 values to [0.1,0.002] again kappa score was very low.\n",
    "    Dense(128, activation='relu', kernel_regularizer=l2(0.001)),  \n",
    "    Dropout(0.3),                                                 \n",
    "    Dense(128, activation='relu', kernel_regularizer=l2(0.001)),  \n",
    "    Dense(64, activation='relu', kernel_regularizer=l2(0.001)),\n",
    "    Dropout(0.3),  \n",
    "    Dense(32, activation='relu', kernel_regularizer=l2(0.001)),  \n",
    "    Dropout(0.3),\n",
    "    # here dense layer dimension is 5 as we have predict among 5 classes  \n",
    "    Dense(5, activation='softmax')  \n",
    "])\n",
    "\n",
    "model.compile(optimizer='adam',\n",
    "              loss='categorical_crossentropy',\n",
    "              metrics=['accuracy'])\n"
   ]
  },
  {
   "cell_type": "code",
   "execution_count": 43,
   "metadata": {},
   "outputs": [
    {
     "name": "stdout",
     "output_type": "stream",
     "text": [
      "Epoch 1/100\n",
      "242/242 [==============================] - 2s 5ms/step - loss: 1.6524 - accuracy: 0.3357 - val_loss: 1.3993 - val_accuracy: 0.4537\n",
      "Epoch 2/100\n",
      "242/242 [==============================] - 1s 5ms/step - loss: 1.3817 - accuracy: 0.4658 - val_loss: 1.3262 - val_accuracy: 0.4713\n",
      "Epoch 3/100\n",
      "242/242 [==============================] - 1s 5ms/step - loss: 1.2795 - accuracy: 0.5329 - val_loss: 1.3402 - val_accuracy: 0.4904\n",
      "Epoch 4/100\n",
      "242/242 [==============================] - 1s 5ms/step - loss: 1.2122 - accuracy: 0.5877 - val_loss: 1.3929 - val_accuracy: 0.5039\n",
      "Epoch 5/100\n",
      "242/242 [==============================] - 1s 5ms/step - loss: 1.1558 - accuracy: 0.6453 - val_loss: 1.5120 - val_accuracy: 0.4873\n",
      "Epoch 6/100\n",
      "242/242 [==============================] - 1s 5ms/step - loss: 1.0986 - accuracy: 0.6923 - val_loss: 1.5647 - val_accuracy: 0.5059\n",
      "Epoch 7/100\n",
      "242/242 [==============================] - 1s 5ms/step - loss: 1.0695 - accuracy: 0.7272 - val_loss: 1.6233 - val_accuracy: 0.5147\n",
      "Epoch 8/100\n",
      "242/242 [==============================] - 1s 5ms/step - loss: 1.0201 - accuracy: 0.7586 - val_loss: 1.7176 - val_accuracy: 0.5049\n",
      "Epoch 9/100\n",
      "242/242 [==============================] - 1s 5ms/step - loss: 0.9988 - accuracy: 0.7777 - val_loss: 1.7538 - val_accuracy: 0.4904\n",
      "Epoch 10/100\n",
      "242/242 [==============================] - 1s 5ms/step - loss: 0.9671 - accuracy: 0.7963 - val_loss: 1.8483 - val_accuracy: 0.5003\n",
      "Epoch 11/100\n",
      "242/242 [==============================] - 1s 5ms/step - loss: 0.9224 - accuracy: 0.8187 - val_loss: 1.9201 - val_accuracy: 0.5034\n",
      "Epoch 12/100\n",
      "242/242 [==============================] - 1s 5ms/step - loss: 0.9039 - accuracy: 0.8295 - val_loss: 1.9276 - val_accuracy: 0.5251\n"
     ]
    }
   ],
   "source": [
    "early_stopping = EarlyStopping(monitor='val_loss', patience=10, restore_best_weights=True)\n",
    "\n",
    "history= model.fit(X_train_transformed, y_train_deep, validation_data=(X_val_transformed, y_val_deep),\n",
    "          epochs=100,  \n",
    "          callbacks=[early_stopping])"
   ]
  },
  {
   "cell_type": "code",
   "execution_count": 44,
   "metadata": {},
   "outputs": [
    {
     "data": {
      "image/png": "[encoded data removed]",
      "text/plain": [
       "<Figure size 1000x600 with 1 Axes>"
      ]
     },
     "metadata": {},
     "output_type": "display_data"
    }
   ],
   "source": [
    "plt.figure(figsize=(10, 6))\n",
    "plt.plot(history.history['loss'], label='Training Loss')\n",
    "plt.plot(history.history['val_loss'], label='Validation Loss')\n",
    "plt.title('Model Loss Over Epochs')\n",
    "plt.ylabel('Loss')\n",
    "plt.xlabel('Epoch')\n",
    "plt.legend(loc='upper right')\n",
    "plt.show()"
   ]
  },
  {
   "cell_type": "code",
   "execution_count": 45,
   "metadata": {},
   "outputs": [
    {
     "name": "stdout",
     "output_type": "stream",
     "text": [
      "61/61 [==============================] - 0s 660us/step\n",
      "Cohen's Kappa Score: 0.32669210910315416\n"
     ]
    }
   ],
   "source": [
    "y_pred = model.predict(X_val_transformed)\n",
    "\n",
    "y_val_labels = np.argmax(y_val_deep, axis=1) #taking argmax as we had list of probabilities from softmax at the last layer.\n",
    "y_pred_labels = np.argmax(y_pred, axis=1)\n",
    "\n",
    "\n",
    "kappa_score = cohen_kappa_score(y_val_labels, y_pred_labels)\n",
    "\n",
    "print(f\"Cohen's Kappa Score: {kappa_score}\")\n"
   ]
  },
  {
   "cell_type": "markdown",
   "metadata": {},
   "source": [
    "# Now predicting on Test Set"
   ]
  },
  {
   "cell_type": "code",
   "execution_count": 46,
   "metadata": {},
   "outputs": [],
   "source": [
    "X_test_transformed= Dl_Pipeline.transform(X_test)"
   ]
  },
  {
   "cell_type": "code",
   "execution_count": 47,
   "metadata": {},
   "outputs": [
    {
     "name": "stdout",
     "output_type": "stream",
     "text": [
      "16/16 [==============================] - 0s 1ms/step\n"
     ]
    }
   ],
   "source": [
    "y_test_pred = model.predict(X_test_transformed)  \n",
    "y_test_pred_labels = np.argmax(y_test_pred, axis=1)"
   ]
  },
  {
   "cell_type": "code",
   "execution_count": 49,
   "metadata": {},
   "outputs": [
    {
     "data": {
      "text/plain": [
       "array([2, 2, 2, 4, 2, 1, 3, 2, 2, 2, 4, 2, 2, 4, 2, 4, 2, 2, 2, 4, 2, 2,\n",
       "       0, 2, 2, 2, 4, 2, 4, 2, 2, 2, 3, 2, 2, 2, 2, 3, 3, 3, 4, 2, 4, 4,\n",
       "       2, 2, 2, 4, 4, 4, 4, 4, 4, 2, 4, 4, 1, 4, 4, 4, 2, 2, 3, 2, 4, 4,\n",
       "       2, 3, 4, 4, 2, 2, 2, 0, 2, 2, 2, 2, 3, 3, 2, 2, 4, 2, 2, 2, 2, 2,\n",
       "       2, 4, 2, 2, 2, 2, 2, 2, 2, 2, 2, 3, 2, 4, 2, 2, 2, 4, 4, 4, 3, 2,\n",
       "       2, 4, 2, 3, 3, 2, 4, 2, 4, 4, 2, 2, 2, 2, 4, 2, 0, 2, 2, 3, 4, 2,\n",
       "       2, 2, 2, 4, 2, 2, 4, 2, 2, 3, 2, 2, 3, 2, 4, 4, 2, 2, 2, 3, 2, 2,\n",
       "       2, 2, 2, 3, 3, 4, 2, 2, 4, 3, 4, 2, 2, 4, 4, 2, 4, 3, 4, 2, 4, 2,\n",
       "       3, 2, 4, 4, 4, 2, 2, 2, 2, 2, 2, 1, 4, 4, 3, 4, 4, 3, 2, 2, 4, 2,\n",
       "       3, 4, 4, 2, 4, 2, 3, 4, 4, 4, 2, 2, 2, 2, 4, 2, 2, 2, 4, 3, 2, 2,\n",
       "       2, 2, 2, 2, 2, 2, 2, 2, 2, 2, 4, 2, 4, 3, 2, 3, 2, 4, 2, 2, 3, 2,\n",
       "       2, 4, 2, 4, 3, 3, 4, 2, 2, 4, 2, 2, 3, 4, 3, 2, 2, 2, 2, 3, 2, 2,\n",
       "       2, 2, 2, 4, 2, 2, 2, 0, 2, 2, 0, 2, 4, 4, 2, 2, 4, 2, 1, 4, 2, 4,\n",
       "       4, 2, 3, 2, 2, 4, 2, 2, 4, 4, 2, 4, 4, 2, 3, 4, 3, 2, 4, 4, 2, 2,\n",
       "       3, 4, 3, 4, 3, 2, 2, 2, 4, 4, 4, 2, 3, 2, 4, 4, 4, 2, 4, 4, 2, 2,\n",
       "       2, 4, 4, 2, 4, 3, 2, 2, 2, 3, 4, 0, 2, 2, 4, 2, 2, 2, 4, 2, 4, 3,\n",
       "       4, 2, 2, 4, 2, 4, 2, 2, 2, 2, 2, 4, 4, 3, 2, 2, 4, 3, 3, 2, 1, 4,\n",
       "       4, 2, 2, 4, 2, 4, 1, 2, 2, 2, 3, 2, 2, 2, 3, 4, 2, 2, 2, 4, 4, 2,\n",
       "       2, 2, 4, 2, 2, 2, 4, 4, 4, 4, 2, 2, 4, 4, 4, 4, 2, 4, 4, 2, 3, 4,\n",
       "       2, 2, 4, 4, 4, 4, 2, 2, 4, 2, 2, 4, 4, 2, 4, 2, 3, 4, 2, 2, 4, 4,\n",
       "       4, 4, 4, 2, 4, 4, 2, 2, 2, 4, 4, 2, 2, 2, 3, 2, 4, 4, 4, 4, 2, 2,\n",
       "       2, 4, 4, 2, 2, 4, 3, 2, 2, 2, 2, 2, 2, 4, 2, 2, 3, 3, 3, 3, 2, 4,\n",
       "       4, 2, 2, 4, 2, 4, 2, 4, 2, 2, 4, 4, 1, 4, 4, 4])"
      ]
     },
     "execution_count": 49,
     "metadata": {},
     "output_type": "execute_result"
    }
   ],
   "source": [
    "y_test_pred_labels"
   ]
  },
  {
   "cell_type": "code",
   "execution_count": 57,
   "metadata": {},
   "outputs": [
    {
     "data": {
      "text/html": [
       "<div>\n",
       "<style scoped>\n",
       "    .dataframe tbody tr th:only-of-type {\n",
       "        vertical-align: middle;\n",
       "    }\n",
       "\n",
       "    .dataframe tbody tr th {\n",
       "        vertical-align: top;\n",
       "    }\n",
       "\n",
       "    .dataframe thead th {\n",
       "        text-align: right;\n",
       "    }\n",
       "</style>\n",
       "<table border=\"1\" class=\"dataframe\">\n",
       "  <thead>\n",
       "    <tr style=\"text-align: right;\">\n",
       "      <th></th>\n",
       "      <th>prediction rate</th>\n",
       "    </tr>\n",
       "  </thead>\n",
       "  <tbody>\n",
       "    <tr>\n",
       "      <th>0</th>\n",
       "      <td>2.0</td>\n",
       "    </tr>\n",
       "    <tr>\n",
       "      <th>1</th>\n",
       "      <td>2.0</td>\n",
       "    </tr>\n",
       "    <tr>\n",
       "      <th>2</th>\n",
       "      <td>2.0</td>\n",
       "    </tr>\n",
       "    <tr>\n",
       "      <th>3</th>\n",
       "      <td>4.0</td>\n",
       "    </tr>\n",
       "    <tr>\n",
       "      <th>4</th>\n",
       "      <td>2.0</td>\n",
       "    </tr>\n",
       "    <tr>\n",
       "      <th>...</th>\n",
       "      <td>...</td>\n",
       "    </tr>\n",
       "    <tr>\n",
       "      <th>495</th>\n",
       "      <td>4.0</td>\n",
       "    </tr>\n",
       "    <tr>\n",
       "      <th>496</th>\n",
       "      <td>1.0</td>\n",
       "    </tr>\n",
       "    <tr>\n",
       "      <th>497</th>\n",
       "      <td>4.0</td>\n",
       "    </tr>\n",
       "    <tr>\n",
       "      <th>498</th>\n",
       "      <td>4.0</td>\n",
       "    </tr>\n",
       "    <tr>\n",
       "      <th>499</th>\n",
       "      <td>4.0</td>\n",
       "    </tr>\n",
       "  </tbody>\n",
       "</table>\n",
       "<p>500 rows × 1 columns</p>\n",
       "</div>"
      ],
      "text/plain": [
       "     prediction rate\n",
       "0                2.0\n",
       "1                2.0\n",
       "2                2.0\n",
       "3                4.0\n",
       "4                2.0\n",
       "..               ...\n",
       "495              4.0\n",
       "496              1.0\n",
       "497              4.0\n",
       "498              4.0\n",
       "499              4.0\n",
       "\n",
       "[500 rows x 1 columns]"
      ]
     },
     "execution_count": 57,
     "metadata": {},
     "output_type": "execute_result"
    }
   ],
   "source": [
    "y_test_pred_list= y_test_pred_labels.tolist()\n",
    "\n",
    "df_dl= pd.DataFrame(y_test_pred_list,columns=['prediction rate'])\n",
    "df_dl['prediction rate']= df_dl['prediction rate'].astype(float) #changing the datatype to float as it was in the original dataset\n",
    "df_dl"
   ]
  },
  {
   "cell_type": "code",
   "execution_count": 58,
   "metadata": {},
   "outputs": [],
   "source": [
    "df_dl.to_csv('deep_learning_predictions',index=False)"
   ]
  }
 ],
 "metadata": {
  "kernelspec": {
   "display_name": "Python 3",
   "language": "python",
   "name": "python3"
  },
  "language_info": {
   "codemirror_mode": {
    "name": "ipython",
    "version": 3
   },
   "file_extension": ".py",
   "mimetype": "text/x-python",
   "name": "python",
   "nbconvert_exporter": "python",
   "pygments_lexer": "ipython3",
   "version": "3.11.0rc2"
  }
 },
 "nbformat": 4,
 "nbformat_minor": 2
}
